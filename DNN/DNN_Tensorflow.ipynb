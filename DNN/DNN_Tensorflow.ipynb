{
 "cells": [
  {
   "cell_type": "markdown",
   "id": "b36b60b1",
   "metadata": {},
   "source": [
    "# DNN using Tensorflow"
   ]
  },
  {
   "cell_type": "markdown",
   "id": "be7f5343",
   "metadata": {},
   "source": [
    "## *Predict Car Sales Pricing"
   ]
  },
  {
   "cell_type": "markdown",
   "id": "3bea4158",
   "metadata": {},
   "source": [
    "### 1. Import libraries"
   ]
  },
  {
   "cell_type": "code",
   "execution_count": 2,
   "id": "e55e3dbb",
   "metadata": {},
   "outputs": [
    {
     "name": "stdout",
     "output_type": "stream",
     "text": [
      "2.8.0\n"
     ]
    }
   ],
   "source": [
    "import pandas as pd\n",
    "import numpy as np\n",
    "import matplotlib.pyplot as plt\n",
    "from sklearn.model_selection import train_test_split\n",
    "%matplotlib inline\n",
    "import seaborn as sns\n",
    "sns.set(style=\"darkgrid\")\n",
    "import tensorflow as tf\n",
    "print(tf.__version__)"
   ]
  },
  {
   "cell_type": "markdown",
   "id": "1b470f08",
   "metadata": {},
   "source": [
    "### 2. Import Dataset and View First 5 Rows"
   ]
  },
  {
   "cell_type": "code",
   "execution_count": 3,
   "id": "782910c6",
   "metadata": {},
   "outputs": [
    {
     "data": {
      "text/html": [
       "<div>\n",
       "<style scoped>\n",
       "    .dataframe tbody tr th:only-of-type {\n",
       "        vertical-align: middle;\n",
       "    }\n",
       "\n",
       "    .dataframe tbody tr th {\n",
       "        vertical-align: top;\n",
       "    }\n",
       "\n",
       "    .dataframe thead th {\n",
       "        text-align: right;\n",
       "    }\n",
       "</style>\n",
       "<table border=\"1\" class=\"dataframe\">\n",
       "  <thead>\n",
       "    <tr style=\"text-align: right;\">\n",
       "      <th></th>\n",
       "      <th>Unnamed: 0</th>\n",
       "      <th>Name</th>\n",
       "      <th>Location</th>\n",
       "      <th>Year</th>\n",
       "      <th>Kilometers_Driven</th>\n",
       "      <th>Fuel_Type</th>\n",
       "      <th>Transmission</th>\n",
       "      <th>Owner_Type</th>\n",
       "      <th>Mileage</th>\n",
       "      <th>Engine</th>\n",
       "      <th>Power</th>\n",
       "      <th>Seats</th>\n",
       "      <th>New_Price</th>\n",
       "      <th>Price</th>\n",
       "    </tr>\n",
       "  </thead>\n",
       "  <tbody>\n",
       "    <tr>\n",
       "      <th>0</th>\n",
       "      <td>0</td>\n",
       "      <td>Maruti Wagon R LXI CNG</td>\n",
       "      <td>Mumbai</td>\n",
       "      <td>2010</td>\n",
       "      <td>72000</td>\n",
       "      <td>CNG</td>\n",
       "      <td>Manual</td>\n",
       "      <td>First</td>\n",
       "      <td>26.6 km/kg</td>\n",
       "      <td>998 CC</td>\n",
       "      <td>58.16 bhp</td>\n",
       "      <td>5.0</td>\n",
       "      <td>NaN</td>\n",
       "      <td>1.75</td>\n",
       "    </tr>\n",
       "    <tr>\n",
       "      <th>1</th>\n",
       "      <td>1</td>\n",
       "      <td>Hyundai Creta 1.6 CRDi SX Option</td>\n",
       "      <td>Pune</td>\n",
       "      <td>2015</td>\n",
       "      <td>41000</td>\n",
       "      <td>Diesel</td>\n",
       "      <td>Manual</td>\n",
       "      <td>First</td>\n",
       "      <td>19.67 kmpl</td>\n",
       "      <td>1582 CC</td>\n",
       "      <td>126.2 bhp</td>\n",
       "      <td>5.0</td>\n",
       "      <td>NaN</td>\n",
       "      <td>12.50</td>\n",
       "    </tr>\n",
       "    <tr>\n",
       "      <th>2</th>\n",
       "      <td>2</td>\n",
       "      <td>Honda Jazz V</td>\n",
       "      <td>Chennai</td>\n",
       "      <td>2011</td>\n",
       "      <td>46000</td>\n",
       "      <td>Petrol</td>\n",
       "      <td>Manual</td>\n",
       "      <td>First</td>\n",
       "      <td>18.2 kmpl</td>\n",
       "      <td>1199 CC</td>\n",
       "      <td>88.7 bhp</td>\n",
       "      <td>5.0</td>\n",
       "      <td>8.61 Lakh</td>\n",
       "      <td>4.50</td>\n",
       "    </tr>\n",
       "    <tr>\n",
       "      <th>3</th>\n",
       "      <td>3</td>\n",
       "      <td>Maruti Ertiga VDI</td>\n",
       "      <td>Chennai</td>\n",
       "      <td>2012</td>\n",
       "      <td>87000</td>\n",
       "      <td>Diesel</td>\n",
       "      <td>Manual</td>\n",
       "      <td>First</td>\n",
       "      <td>20.77 kmpl</td>\n",
       "      <td>1248 CC</td>\n",
       "      <td>88.76 bhp</td>\n",
       "      <td>7.0</td>\n",
       "      <td>NaN</td>\n",
       "      <td>6.00</td>\n",
       "    </tr>\n",
       "    <tr>\n",
       "      <th>4</th>\n",
       "      <td>4</td>\n",
       "      <td>Audi A4 New 2.0 TDI Multitronic</td>\n",
       "      <td>Coimbatore</td>\n",
       "      <td>2013</td>\n",
       "      <td>40670</td>\n",
       "      <td>Diesel</td>\n",
       "      <td>Automatic</td>\n",
       "      <td>Second</td>\n",
       "      <td>15.2 kmpl</td>\n",
       "      <td>1968 CC</td>\n",
       "      <td>140.8 bhp</td>\n",
       "      <td>5.0</td>\n",
       "      <td>NaN</td>\n",
       "      <td>17.74</td>\n",
       "    </tr>\n",
       "  </tbody>\n",
       "</table>\n",
       "</div>"
      ],
      "text/plain": [
       "   Unnamed: 0                              Name    Location  Year  \\\n",
       "0           0            Maruti Wagon R LXI CNG      Mumbai  2010   \n",
       "1           1  Hyundai Creta 1.6 CRDi SX Option        Pune  2015   \n",
       "2           2                      Honda Jazz V     Chennai  2011   \n",
       "3           3                 Maruti Ertiga VDI     Chennai  2012   \n",
       "4           4   Audi A4 New 2.0 TDI Multitronic  Coimbatore  2013   \n",
       "\n",
       "   Kilometers_Driven Fuel_Type Transmission Owner_Type     Mileage   Engine  \\\n",
       "0              72000       CNG       Manual      First  26.6 km/kg   998 CC   \n",
       "1              41000    Diesel       Manual      First  19.67 kmpl  1582 CC   \n",
       "2              46000    Petrol       Manual      First   18.2 kmpl  1199 CC   \n",
       "3              87000    Diesel       Manual      First  20.77 kmpl  1248 CC   \n",
       "4              40670    Diesel    Automatic     Second   15.2 kmpl  1968 CC   \n",
       "\n",
       "       Power  Seats  New_Price  Price  \n",
       "0  58.16 bhp    5.0        NaN   1.75  \n",
       "1  126.2 bhp    5.0        NaN  12.50  \n",
       "2   88.7 bhp    5.0  8.61 Lakh   4.50  \n",
       "3  88.76 bhp    7.0        NaN   6.00  \n",
       "4  140.8 bhp    5.0        NaN  17.74  "
      ]
     },
     "execution_count": 3,
     "metadata": {},
     "output_type": "execute_result"
    }
   ],
   "source": [
    "data_path = r\"car_data.csv\"\n",
    "car_dataset = pd.read_csv(data_path, engine='python')\n",
    "car_dataset.head()"
   ]
  },
  {
   "cell_type": "markdown",
   "id": "07d5331f",
   "metadata": {},
   "source": [
    "### 3. Check for Missing Fields"
   ]
  },
  {
   "cell_type": "code",
   "execution_count": 4,
   "id": "2dc2232f",
   "metadata": {},
   "outputs": [
    {
     "data": {
      "text/plain": [
       "Unnamed: 0           0.000000\n",
       "Name                 0.000000\n",
       "Location             0.000000\n",
       "Year                 0.000000\n",
       "Kilometers_Driven    0.000000\n",
       "Fuel_Type            0.000000\n",
       "Transmission         0.000000\n",
       "Owner_Type           0.000000\n",
       "Mileage              0.000332\n",
       "Engine               0.005981\n",
       "Power                0.005981\n",
       "Seats                0.006978\n",
       "New_Price            0.863100\n",
       "Price                0.000000\n",
       "dtype: float64"
      ]
     },
     "execution_count": 4,
     "metadata": {},
     "output_type": "execute_result"
    }
   ],
   "source": [
    "# Will how the % of missing values for each variable\n",
    "car_dataset.isnull().mean()"
   ]
  },
  {
   "cell_type": "markdown",
   "id": "930e7173",
   "metadata": {},
   "source": [
    "### 4. Remove Unuseful Data"
   ]
  },
  {
   "cell_type": "code",
   "execution_count": 5,
   "id": "89eb1bdf",
   "metadata": {},
   "outputs": [],
   "source": [
    "# Will remove the New_Price column and Unnamed column from dataset. They are not useful \n",
    "car_dataset = car_dataset.drop(['Unnamed: 0', 'New_Price'], axis = 1)"
   ]
  },
  {
   "cell_type": "markdown",
   "id": "d37954fc",
   "metadata": {},
   "source": [
    "### 5. Plot Relationships Between the Independent Variables and Response Variable"
   ]
  },
  {
   "cell_type": "code",
   "execution_count": 6,
   "id": "a843c9c3",
   "metadata": {},
   "outputs": [
    {
     "data": {
      "text/plain": [
       "<AxesSubplot:>"
      ]
     },
     "execution_count": 6,
     "metadata": {},
     "output_type": "execute_result"
    },
    {
     "data": {
      "image/png": "[encoded data removed]",
      "text/plain": [
       "<Figure size 576x432 with 2 Axes>"
      ]
     },
     "metadata": {},
     "output_type": "display_data"
    }
   ],
   "source": [
    "# Plots a heatmap shwoing a relationship between all the numerical columns in the dataset\n",
    "plt.rcParams[\"figure.figsize\"] = [8, 6]\n",
    "sns.heatmap(car_dataset.corr())"
   ]
  },
  {
   "cell_type": "markdown",
   "id": "d4ce27d9",
   "metadata": {},
   "source": [
    "### Heat shows a slight positive correlation between the Year and Price columns. This makes sense as newer cars are normally expensive compared to older cars."
   ]
  },
  {
   "cell_type": "markdown",
   "id": "d976f308",
   "metadata": {},
   "source": [
    "### 6. Histogram to show frequency of variables"
   ]
  },
  {
   "cell_type": "code",
   "execution_count": 7,
   "id": "347994cc",
   "metadata": {},
   "outputs": [
    {
     "data": {
      "text/plain": [
       "<seaborn.axisgrid.FacetGrid at 0x18d325f5910>"
      ]
     },
     "execution_count": 7,
     "metadata": {},
     "output_type": "execute_result"
    },
    {
     "data": {
      "image/png": "[encoded data removed]",
      "text/plain": [
       "<Figure size 360x360 with 1 Axes>"
      ]
     },
     "metadata": {},
     "output_type": "display_data"
    }
   ],
   "source": [
    "sns.displot(car_dataset['Price'])"
   ]
  },
  {
   "cell_type": "markdown",
   "id": "7e22124c",
   "metadata": {},
   "source": [
    "### The output shows that most of the cars are priced between 2.5 to 7.5 hundred thousand. The unit of the price mentioned in the price column is one hundred thousand."
   ]
  },
  {
   "cell_type": "markdown",
   "id": "f5f63e06",
   "metadata": {},
   "source": [
    "## 7. Convert Categorical Data to Numeric"
   ]
  },
  {
   "cell_type": "code",
   "execution_count": 8,
   "id": "5808c140",
   "metadata": {},
   "outputs": [
    {
     "data": {
      "text/plain": [
       "Name                 1876\n",
       "Location               11\n",
       "Year                   22\n",
       "Kilometers_Driven    3093\n",
       "Fuel_Type               5\n",
       "Transmission            2\n",
       "Owner_Type              4\n",
       "Mileage               442\n",
       "Engine                146\n",
       "Power                 372\n",
       "Seats                   9\n",
       "Price                1373\n",
       "dtype: int64"
      ]
     },
     "execution_count": 8,
     "metadata": {},
     "output_type": "execute_result"
    }
   ],
   "source": [
    "#View the number of unique values in different columns\n",
    "car_dataset.nunique()"
   ]
  },
  {
   "cell_type": "code",
   "execution_count": 9,
   "id": "5871fb16",
   "metadata": {},
   "outputs": [
    {
     "data": {
      "text/plain": [
       "Name                 6019\n",
       "Location             6019\n",
       "Year                 6019\n",
       "Kilometers_Driven    6019\n",
       "Fuel_Type            6019\n",
       "Transmission         6019\n",
       "Owner_Type           6019\n",
       "Mileage              6017\n",
       "Engine               5983\n",
       "Power                5983\n",
       "Seats                5977\n",
       "Price                6019\n",
       "dtype: int64"
      ]
     },
     "execution_count": 9,
     "metadata": {},
     "output_type": "execute_result"
    }
   ],
   "source": [
    "car_dataset.count()"
   ]
  },
  {
   "cell_type": "code",
   "execution_count": 10,
   "id": "dd628c57",
   "metadata": {},
   "outputs": [
    {
     "name": "stdout",
     "output_type": "stream",
     "text": [
      "Name                  object\n",
      "Location              object\n",
      "Year                   int64\n",
      "Kilometers_Driven      int64\n",
      "Fuel_Type             object\n",
      "Transmission          object\n",
      "Owner_Type            object\n",
      "Mileage               object\n",
      "Engine                object\n",
      "Power                 object\n",
      "Seats                float64\n",
      "Price                float64\n",
      "dtype: object\n"
     ]
    }
   ],
   "source": [
    "# View data types for each columns\n",
    "print(car_dataset.dtypes)"
   ]
  },
  {
   "cell_type": "code",
   "execution_count": 11,
   "id": "508dbe98",
   "metadata": {},
   "outputs": [
    {
     "data": {
      "text/html": [
       "<div>\n",
       "<style scoped>\n",
       "    .dataframe tbody tr th:only-of-type {\n",
       "        vertical-align: middle;\n",
       "    }\n",
       "\n",
       "    .dataframe tbody tr th {\n",
       "        vertical-align: top;\n",
       "    }\n",
       "\n",
       "    .dataframe thead th {\n",
       "        text-align: right;\n",
       "    }\n",
       "</style>\n",
       "<table border=\"1\" class=\"dataframe\">\n",
       "  <thead>\n",
       "    <tr style=\"text-align: right;\">\n",
       "      <th></th>\n",
       "      <th>Year</th>\n",
       "      <th>Kilometers_Driven</th>\n",
       "      <th>Seats</th>\n",
       "      <th>Price</th>\n",
       "    </tr>\n",
       "  </thead>\n",
       "  <tbody>\n",
       "    <tr>\n",
       "      <th>0</th>\n",
       "      <td>2010</td>\n",
       "      <td>72000</td>\n",
       "      <td>5.0</td>\n",
       "      <td>1.75</td>\n",
       "    </tr>\n",
       "    <tr>\n",
       "      <th>1</th>\n",
       "      <td>2015</td>\n",
       "      <td>41000</td>\n",
       "      <td>5.0</td>\n",
       "      <td>12.50</td>\n",
       "    </tr>\n",
       "    <tr>\n",
       "      <th>2</th>\n",
       "      <td>2011</td>\n",
       "      <td>46000</td>\n",
       "      <td>5.0</td>\n",
       "      <td>4.50</td>\n",
       "    </tr>\n",
       "    <tr>\n",
       "      <th>3</th>\n",
       "      <td>2012</td>\n",
       "      <td>87000</td>\n",
       "      <td>7.0</td>\n",
       "      <td>6.00</td>\n",
       "    </tr>\n",
       "    <tr>\n",
       "      <th>4</th>\n",
       "      <td>2013</td>\n",
       "      <td>40670</td>\n",
       "      <td>5.0</td>\n",
       "      <td>17.74</td>\n",
       "    </tr>\n",
       "  </tbody>\n",
       "</table>\n",
       "</div>"
      ],
      "text/plain": [
       "   Year  Kilometers_Driven  Seats  Price\n",
       "0  2010              72000    5.0   1.75\n",
       "1  2015              41000    5.0  12.50\n",
       "2  2011              46000    5.0   4.50\n",
       "3  2012              87000    7.0   6.00\n",
       "4  2013              40670    5.0  17.74"
      ]
     },
     "execution_count": 11,
     "metadata": {},
     "output_type": "execute_result"
    }
   ],
   "source": [
    "# View only the numerical columns in the dataset\n",
    "numerical_data = car_dataset.drop(['Name', 'Location','Fuel_Type', 'Transmission', 'Owner_Type', 'Mileage', 'Engine', 'Power'], axis=1)\n",
    "numerical_data.head()"
   ]
  },
  {
   "cell_type": "code",
   "execution_count": 12,
   "id": "b9090046",
   "metadata": {},
   "outputs": [
    {
     "data": {
      "text/html": [
       "<div>\n",
       "<style scoped>\n",
       "    .dataframe tbody tr th:only-of-type {\n",
       "        vertical-align: middle;\n",
       "    }\n",
       "\n",
       "    .dataframe tbody tr th {\n",
       "        vertical-align: top;\n",
       "    }\n",
       "\n",
       "    .dataframe thead th {\n",
       "        text-align: right;\n",
       "    }\n",
       "</style>\n",
       "<table border=\"1\" class=\"dataframe\">\n",
       "  <thead>\n",
       "    <tr style=\"text-align: right;\">\n",
       "      <th></th>\n",
       "      <th>Location</th>\n",
       "      <th>Fuel_Type</th>\n",
       "      <th>Transmission</th>\n",
       "      <th>Owner_Type</th>\n",
       "      <th>Mileage</th>\n",
       "      <th>Engine</th>\n",
       "      <th>Power</th>\n",
       "    </tr>\n",
       "  </thead>\n",
       "  <tbody>\n",
       "    <tr>\n",
       "      <th>0</th>\n",
       "      <td>Mumbai</td>\n",
       "      <td>CNG</td>\n",
       "      <td>Manual</td>\n",
       "      <td>First</td>\n",
       "      <td>26.6 km/kg</td>\n",
       "      <td>998 CC</td>\n",
       "      <td>58.16 bhp</td>\n",
       "    </tr>\n",
       "    <tr>\n",
       "      <th>1</th>\n",
       "      <td>Pune</td>\n",
       "      <td>Diesel</td>\n",
       "      <td>Manual</td>\n",
       "      <td>First</td>\n",
       "      <td>19.67 kmpl</td>\n",
       "      <td>1582 CC</td>\n",
       "      <td>126.2 bhp</td>\n",
       "    </tr>\n",
       "    <tr>\n",
       "      <th>2</th>\n",
       "      <td>Chennai</td>\n",
       "      <td>Petrol</td>\n",
       "      <td>Manual</td>\n",
       "      <td>First</td>\n",
       "      <td>18.2 kmpl</td>\n",
       "      <td>1199 CC</td>\n",
       "      <td>88.7 bhp</td>\n",
       "    </tr>\n",
       "    <tr>\n",
       "      <th>3</th>\n",
       "      <td>Chennai</td>\n",
       "      <td>Diesel</td>\n",
       "      <td>Manual</td>\n",
       "      <td>First</td>\n",
       "      <td>20.77 kmpl</td>\n",
       "      <td>1248 CC</td>\n",
       "      <td>88.76 bhp</td>\n",
       "    </tr>\n",
       "    <tr>\n",
       "      <th>4</th>\n",
       "      <td>Coimbatore</td>\n",
       "      <td>Diesel</td>\n",
       "      <td>Automatic</td>\n",
       "      <td>Second</td>\n",
       "      <td>15.2 kmpl</td>\n",
       "      <td>1968 CC</td>\n",
       "      <td>140.8 bhp</td>\n",
       "    </tr>\n",
       "  </tbody>\n",
       "</table>\n",
       "</div>"
      ],
      "text/plain": [
       "     Location Fuel_Type Transmission Owner_Type     Mileage   Engine  \\\n",
       "0      Mumbai       CNG       Manual      First  26.6 km/kg   998 CC   \n",
       "1        Pune    Diesel       Manual      First  19.67 kmpl  1582 CC   \n",
       "2     Chennai    Petrol       Manual      First   18.2 kmpl  1199 CC   \n",
       "3     Chennai    Diesel       Manual      First  20.77 kmpl  1248 CC   \n",
       "4  Coimbatore    Diesel    Automatic     Second   15.2 kmpl  1968 CC   \n",
       "\n",
       "       Power  \n",
       "0  58.16 bhp  \n",
       "1  126.2 bhp  \n",
       "2   88.7 bhp  \n",
       "3  88.76 bhp  \n",
       "4  140.8 bhp  "
      ]
     },
     "execution_count": 12,
     "metadata": {},
     "output_type": "execute_result"
    }
   ],
   "source": [
    "# Create new table for the categorical columns\n",
    "categorical_data = car_dataset.filter(['Location','Fuel_Type','Transmission','Owner_Type','Mileage','Engine','Power'], axis=1)\n",
    "categorical_data.head()"
   ]
  },
  {
   "cell_type": "code",
   "execution_count": 13,
   "id": "a6ba0e37",
   "metadata": {},
   "outputs": [
    {
     "data": {
      "text/plain": [
       "Location         11\n",
       "Fuel_Type         5\n",
       "Transmission      2\n",
       "Owner_Type        4\n",
       "Mileage         442\n",
       "Engine          146\n",
       "Power           372\n",
       "dtype: int64"
      ]
     },
     "execution_count": 13,
     "metadata": {},
     "output_type": "execute_result"
    }
   ],
   "source": [
    "categorical_data.nunique()"
   ]
  },
  {
   "cell_type": "code",
   "execution_count": 14,
   "id": "fae628a2",
   "metadata": {},
   "outputs": [
    {
     "data": {
      "text/html": [
       "<div>\n",
       "<style scoped>\n",
       "    .dataframe tbody tr th:only-of-type {\n",
       "        vertical-align: middle;\n",
       "    }\n",
       "\n",
       "    .dataframe tbody tr th {\n",
       "        vertical-align: top;\n",
       "    }\n",
       "\n",
       "    .dataframe thead th {\n",
       "        text-align: right;\n",
       "    }\n",
       "</style>\n",
       "<table border=\"1\" class=\"dataframe\">\n",
       "  <thead>\n",
       "    <tr style=\"text-align: right;\">\n",
       "      <th></th>\n",
       "      <th>Location_Bangalore</th>\n",
       "      <th>Location_Chennai</th>\n",
       "      <th>Location_Coimbatore</th>\n",
       "      <th>Location_Delhi</th>\n",
       "      <th>Location_Hyderabad</th>\n",
       "      <th>Location_Jaipur</th>\n",
       "      <th>Location_Kochi</th>\n",
       "      <th>Location_Kolkata</th>\n",
       "      <th>Location_Mumbai</th>\n",
       "      <th>Location_Pune</th>\n",
       "      <th>...</th>\n",
       "      <th>Power_97.6 bhp</th>\n",
       "      <th>Power_97.7 bhp</th>\n",
       "      <th>Power_98.59 bhp</th>\n",
       "      <th>Power_98.6 bhp</th>\n",
       "      <th>Power_98.79 bhp</th>\n",
       "      <th>Power_98.82 bhp</th>\n",
       "      <th>Power_98.96 bhp</th>\n",
       "      <th>Power_99 bhp</th>\n",
       "      <th>Power_99.6 bhp</th>\n",
       "      <th>Power_null bhp</th>\n",
       "    </tr>\n",
       "  </thead>\n",
       "  <tbody>\n",
       "    <tr>\n",
       "      <th>0</th>\n",
       "      <td>0</td>\n",
       "      <td>0</td>\n",
       "      <td>0</td>\n",
       "      <td>0</td>\n",
       "      <td>0</td>\n",
       "      <td>0</td>\n",
       "      <td>0</td>\n",
       "      <td>0</td>\n",
       "      <td>1</td>\n",
       "      <td>0</td>\n",
       "      <td>...</td>\n",
       "      <td>0</td>\n",
       "      <td>0</td>\n",
       "      <td>0</td>\n",
       "      <td>0</td>\n",
       "      <td>0</td>\n",
       "      <td>0</td>\n",
       "      <td>0</td>\n",
       "      <td>0</td>\n",
       "      <td>0</td>\n",
       "      <td>0</td>\n",
       "    </tr>\n",
       "    <tr>\n",
       "      <th>1</th>\n",
       "      <td>0</td>\n",
       "      <td>0</td>\n",
       "      <td>0</td>\n",
       "      <td>0</td>\n",
       "      <td>0</td>\n",
       "      <td>0</td>\n",
       "      <td>0</td>\n",
       "      <td>0</td>\n",
       "      <td>0</td>\n",
       "      <td>1</td>\n",
       "      <td>...</td>\n",
       "      <td>0</td>\n",
       "      <td>0</td>\n",
       "      <td>0</td>\n",
       "      <td>0</td>\n",
       "      <td>0</td>\n",
       "      <td>0</td>\n",
       "      <td>0</td>\n",
       "      <td>0</td>\n",
       "      <td>0</td>\n",
       "      <td>0</td>\n",
       "    </tr>\n",
       "    <tr>\n",
       "      <th>2</th>\n",
       "      <td>0</td>\n",
       "      <td>1</td>\n",
       "      <td>0</td>\n",
       "      <td>0</td>\n",
       "      <td>0</td>\n",
       "      <td>0</td>\n",
       "      <td>0</td>\n",
       "      <td>0</td>\n",
       "      <td>0</td>\n",
       "      <td>0</td>\n",
       "      <td>...</td>\n",
       "      <td>0</td>\n",
       "      <td>0</td>\n",
       "      <td>0</td>\n",
       "      <td>0</td>\n",
       "      <td>0</td>\n",
       "      <td>0</td>\n",
       "      <td>0</td>\n",
       "      <td>0</td>\n",
       "      <td>0</td>\n",
       "      <td>0</td>\n",
       "    </tr>\n",
       "    <tr>\n",
       "      <th>3</th>\n",
       "      <td>0</td>\n",
       "      <td>1</td>\n",
       "      <td>0</td>\n",
       "      <td>0</td>\n",
       "      <td>0</td>\n",
       "      <td>0</td>\n",
       "      <td>0</td>\n",
       "      <td>0</td>\n",
       "      <td>0</td>\n",
       "      <td>0</td>\n",
       "      <td>...</td>\n",
       "      <td>0</td>\n",
       "      <td>0</td>\n",
       "      <td>0</td>\n",
       "      <td>0</td>\n",
       "      <td>0</td>\n",
       "      <td>0</td>\n",
       "      <td>0</td>\n",
       "      <td>0</td>\n",
       "      <td>0</td>\n",
       "      <td>0</td>\n",
       "    </tr>\n",
       "    <tr>\n",
       "      <th>4</th>\n",
       "      <td>0</td>\n",
       "      <td>0</td>\n",
       "      <td>1</td>\n",
       "      <td>0</td>\n",
       "      <td>0</td>\n",
       "      <td>0</td>\n",
       "      <td>0</td>\n",
       "      <td>0</td>\n",
       "      <td>0</td>\n",
       "      <td>0</td>\n",
       "      <td>...</td>\n",
       "      <td>0</td>\n",
       "      <td>0</td>\n",
       "      <td>0</td>\n",
       "      <td>0</td>\n",
       "      <td>0</td>\n",
       "      <td>0</td>\n",
       "      <td>0</td>\n",
       "      <td>0</td>\n",
       "      <td>0</td>\n",
       "      <td>0</td>\n",
       "    </tr>\n",
       "  </tbody>\n",
       "</table>\n",
       "<p>5 rows × 975 columns</p>\n",
       "</div>"
      ],
      "text/plain": [
       "   Location_Bangalore  Location_Chennai  Location_Coimbatore  Location_Delhi  \\\n",
       "0                   0                 0                    0               0   \n",
       "1                   0                 0                    0               0   \n",
       "2                   0                 1                    0               0   \n",
       "3                   0                 1                    0               0   \n",
       "4                   0                 0                    1               0   \n",
       "\n",
       "   Location_Hyderabad  Location_Jaipur  Location_Kochi  Location_Kolkata  \\\n",
       "0                   0                0               0                 0   \n",
       "1                   0                0               0                 0   \n",
       "2                   0                0               0                 0   \n",
       "3                   0                0               0                 0   \n",
       "4                   0                0               0                 0   \n",
       "\n",
       "   Location_Mumbai  Location_Pune  ...  Power_97.6 bhp  Power_97.7 bhp  \\\n",
       "0                1              0  ...               0               0   \n",
       "1                0              1  ...               0               0   \n",
       "2                0              0  ...               0               0   \n",
       "3                0              0  ...               0               0   \n",
       "4                0              0  ...               0               0   \n",
       "\n",
       "   Power_98.59 bhp  Power_98.6 bhp  Power_98.79 bhp  Power_98.82 bhp  \\\n",
       "0                0               0                0                0   \n",
       "1                0               0                0                0   \n",
       "2                0               0                0                0   \n",
       "3                0               0                0                0   \n",
       "4                0               0                0                0   \n",
       "\n",
       "   Power_98.96 bhp  Power_99 bhp  Power_99.6 bhp  Power_null bhp  \n",
       "0                0             0               0               0  \n",
       "1                0             0               0               0  \n",
       "2                0             0               0               0  \n",
       "3                0             0               0               0  \n",
       "4                0             0               0               0  \n",
       "\n",
       "[5 rows x 975 columns]"
      ]
     },
     "execution_count": 14,
     "metadata": {},
     "output_type": "execute_result"
    }
   ],
   "source": [
    "# Converts categorical columns into one hot encoded columns using the pd.get_dummies() method\n",
    "categorical_data__one_hot = pd.get_dummies(categorical_data, drop_first= True)\n",
    "categorical_data__one_hot.head()"
   ]
  },
  {
   "cell_type": "code",
   "execution_count": 15,
   "id": "b1b7ca13",
   "metadata": {},
   "outputs": [
    {
     "data": {
      "text/html": [
       "<div>\n",
       "<style scoped>\n",
       "    .dataframe tbody tr th:only-of-type {\n",
       "        vertical-align: middle;\n",
       "    }\n",
       "\n",
       "    .dataframe tbody tr th {\n",
       "        vertical-align: top;\n",
       "    }\n",
       "\n",
       "    .dataframe thead th {\n",
       "        text-align: right;\n",
       "    }\n",
       "</style>\n",
       "<table border=\"1\" class=\"dataframe\">\n",
       "  <thead>\n",
       "    <tr style=\"text-align: right;\">\n",
       "      <th></th>\n",
       "      <th>Year</th>\n",
       "      <th>Kilometers_Driven</th>\n",
       "      <th>Seats</th>\n",
       "      <th>Price</th>\n",
       "      <th>Location_Bangalore</th>\n",
       "      <th>Location_Chennai</th>\n",
       "      <th>Location_Coimbatore</th>\n",
       "      <th>Location_Delhi</th>\n",
       "      <th>Location_Hyderabad</th>\n",
       "      <th>Location_Jaipur</th>\n",
       "      <th>...</th>\n",
       "      <th>Power_97.6 bhp</th>\n",
       "      <th>Power_97.7 bhp</th>\n",
       "      <th>Power_98.59 bhp</th>\n",
       "      <th>Power_98.6 bhp</th>\n",
       "      <th>Power_98.79 bhp</th>\n",
       "      <th>Power_98.82 bhp</th>\n",
       "      <th>Power_98.96 bhp</th>\n",
       "      <th>Power_99 bhp</th>\n",
       "      <th>Power_99.6 bhp</th>\n",
       "      <th>Power_null bhp</th>\n",
       "    </tr>\n",
       "  </thead>\n",
       "  <tbody>\n",
       "    <tr>\n",
       "      <th>0</th>\n",
       "      <td>2010</td>\n",
       "      <td>72000</td>\n",
       "      <td>5.0</td>\n",
       "      <td>1.75</td>\n",
       "      <td>0</td>\n",
       "      <td>0</td>\n",
       "      <td>0</td>\n",
       "      <td>0</td>\n",
       "      <td>0</td>\n",
       "      <td>0</td>\n",
       "      <td>...</td>\n",
       "      <td>0</td>\n",
       "      <td>0</td>\n",
       "      <td>0</td>\n",
       "      <td>0</td>\n",
       "      <td>0</td>\n",
       "      <td>0</td>\n",
       "      <td>0</td>\n",
       "      <td>0</td>\n",
       "      <td>0</td>\n",
       "      <td>0</td>\n",
       "    </tr>\n",
       "    <tr>\n",
       "      <th>1</th>\n",
       "      <td>2015</td>\n",
       "      <td>41000</td>\n",
       "      <td>5.0</td>\n",
       "      <td>12.50</td>\n",
       "      <td>0</td>\n",
       "      <td>0</td>\n",
       "      <td>0</td>\n",
       "      <td>0</td>\n",
       "      <td>0</td>\n",
       "      <td>0</td>\n",
       "      <td>...</td>\n",
       "      <td>0</td>\n",
       "      <td>0</td>\n",
       "      <td>0</td>\n",
       "      <td>0</td>\n",
       "      <td>0</td>\n",
       "      <td>0</td>\n",
       "      <td>0</td>\n",
       "      <td>0</td>\n",
       "      <td>0</td>\n",
       "      <td>0</td>\n",
       "    </tr>\n",
       "    <tr>\n",
       "      <th>2</th>\n",
       "      <td>2011</td>\n",
       "      <td>46000</td>\n",
       "      <td>5.0</td>\n",
       "      <td>4.50</td>\n",
       "      <td>0</td>\n",
       "      <td>1</td>\n",
       "      <td>0</td>\n",
       "      <td>0</td>\n",
       "      <td>0</td>\n",
       "      <td>0</td>\n",
       "      <td>...</td>\n",
       "      <td>0</td>\n",
       "      <td>0</td>\n",
       "      <td>0</td>\n",
       "      <td>0</td>\n",
       "      <td>0</td>\n",
       "      <td>0</td>\n",
       "      <td>0</td>\n",
       "      <td>0</td>\n",
       "      <td>0</td>\n",
       "      <td>0</td>\n",
       "    </tr>\n",
       "    <tr>\n",
       "      <th>3</th>\n",
       "      <td>2012</td>\n",
       "      <td>87000</td>\n",
       "      <td>7.0</td>\n",
       "      <td>6.00</td>\n",
       "      <td>0</td>\n",
       "      <td>1</td>\n",
       "      <td>0</td>\n",
       "      <td>0</td>\n",
       "      <td>0</td>\n",
       "      <td>0</td>\n",
       "      <td>...</td>\n",
       "      <td>0</td>\n",
       "      <td>0</td>\n",
       "      <td>0</td>\n",
       "      <td>0</td>\n",
       "      <td>0</td>\n",
       "      <td>0</td>\n",
       "      <td>0</td>\n",
       "      <td>0</td>\n",
       "      <td>0</td>\n",
       "      <td>0</td>\n",
       "    </tr>\n",
       "    <tr>\n",
       "      <th>4</th>\n",
       "      <td>2013</td>\n",
       "      <td>40670</td>\n",
       "      <td>5.0</td>\n",
       "      <td>17.74</td>\n",
       "      <td>0</td>\n",
       "      <td>0</td>\n",
       "      <td>1</td>\n",
       "      <td>0</td>\n",
       "      <td>0</td>\n",
       "      <td>0</td>\n",
       "      <td>...</td>\n",
       "      <td>0</td>\n",
       "      <td>0</td>\n",
       "      <td>0</td>\n",
       "      <td>0</td>\n",
       "      <td>0</td>\n",
       "      <td>0</td>\n",
       "      <td>0</td>\n",
       "      <td>0</td>\n",
       "      <td>0</td>\n",
       "      <td>0</td>\n",
       "    </tr>\n",
       "  </tbody>\n",
       "</table>\n",
       "<p>5 rows × 979 columns</p>\n",
       "</div>"
      ],
      "text/plain": [
       "   Year  Kilometers_Driven  Seats  Price  Location_Bangalore  \\\n",
       "0  2010              72000    5.0   1.75                   0   \n",
       "1  2015              41000    5.0  12.50                   0   \n",
       "2  2011              46000    5.0   4.50                   0   \n",
       "3  2012              87000    7.0   6.00                   0   \n",
       "4  2013              40670    5.0  17.74                   0   \n",
       "\n",
       "   Location_Chennai  Location_Coimbatore  Location_Delhi  Location_Hyderabad  \\\n",
       "0                 0                    0               0                   0   \n",
       "1                 0                    0               0                   0   \n",
       "2                 1                    0               0                   0   \n",
       "3                 1                    0               0                   0   \n",
       "4                 0                    1               0                   0   \n",
       "\n",
       "   Location_Jaipur  ...  Power_97.6 bhp  Power_97.7 bhp  Power_98.59 bhp  \\\n",
       "0                0  ...               0               0                0   \n",
       "1                0  ...               0               0                0   \n",
       "2                0  ...               0               0                0   \n",
       "3                0  ...               0               0                0   \n",
       "4                0  ...               0               0                0   \n",
       "\n",
       "   Power_98.6 bhp  Power_98.79 bhp  Power_98.82 bhp  Power_98.96 bhp  \\\n",
       "0               0                0                0                0   \n",
       "1               0                0                0                0   \n",
       "2               0                0                0                0   \n",
       "3               0                0                0                0   \n",
       "4               0                0                0                0   \n",
       "\n",
       "   Power_99 bhp  Power_99.6 bhp  Power_null bhp  \n",
       "0             0               0               0  \n",
       "1             0               0               0  \n",
       "2             0               0               0  \n",
       "3             0               0               0  \n",
       "4             0               0               0  \n",
       "\n",
       "[5 rows x 979 columns]"
      ]
     },
     "execution_count": 15,
     "metadata": {},
     "output_type": "execute_result"
    }
   ],
   "source": [
    "# Will combine the numeric data table and the categorical/numeric table into one dataframe\n",
    "complete_dataset = pd.concat([numerical_data, categorical_data__one_hot], axis=1)\n",
    "complete_dataset.head()"
   ]
  },
  {
   "cell_type": "code",
   "execution_count": 16,
   "id": "c0fcb853",
   "metadata": {},
   "outputs": [
    {
     "data": {
      "text/plain": [
       "Year                  0.000000\n",
       "Kilometers_Driven     0.000000\n",
       "Seats                 0.006978\n",
       "Price                 0.000000\n",
       "Location_Bangalore    0.000000\n",
       "                        ...   \n",
       "Power_98.82 bhp       0.000000\n",
       "Power_98.96 bhp       0.000000\n",
       "Power_99 bhp          0.000000\n",
       "Power_99.6 bhp        0.000000\n",
       "Power_null bhp        0.000000\n",
       "Length: 979, dtype: float64"
      ]
     },
     "execution_count": 16,
     "metadata": {},
     "output_type": "execute_result"
    }
   ],
   "source": [
    "# View columns with null values\n",
    "complete_dataset.isnull().mean()"
   ]
  },
  {
   "cell_type": "code",
   "execution_count": 17,
   "id": "7a9f2f73",
   "metadata": {},
   "outputs": [],
   "source": [
    "# Removes any rows that contain null values\n",
    "complete_dataset.dropna(inplace = True)"
   ]
  },
  {
   "cell_type": "markdown",
   "id": "74cb46f6",
   "metadata": {},
   "source": [
    "## Dividing Data into Training and Test Sets"
   ]
  },
  {
   "cell_type": "code",
   "execution_count": 18,
   "id": "4509417c",
   "metadata": {},
   "outputs": [],
   "source": [
    "# Divid the dataset into features and labels.\n",
    "x = complete_dataset.drop(['Price'], axis=1)\n",
    "y = complete_dataset['Price']"
   ]
  },
  {
   "cell_type": "code",
   "execution_count": 19,
   "id": "5478cc9b",
   "metadata": {},
   "outputs": [],
   "source": [
    "x_train, x_test, y_train, y_test = train_test_split(x, y, test_size=0.20, random_state=20)"
   ]
  },
  {
   "cell_type": "code",
   "execution_count": 20,
   "id": "eb1884c9",
   "metadata": {},
   "outputs": [],
   "source": [
    "# Scale the feature set\n",
    "from sklearn.preprocessing import StandardScaler\n",
    "scaler = StandardScaler()\n",
    "x_train = scaler.fit_transform(x_train)\n",
    "x_test = scaler.transform(x_test)"
   ]
  },
  {
   "cell_type": "markdown",
   "id": "3dfcf002",
   "metadata": {},
   "source": [
    "# Create and Training Neural Network Model with Tensorflow Keras"
   ]
  },
  {
   "cell_type": "code",
   "execution_count": 21,
   "id": "842a8ad5",
   "metadata": {},
   "outputs": [],
   "source": [
    "# Import classes and modules from Tensorflow and Keras\n",
    "from tensorflow.keras.layers import Input, Dense, Activation, Dropout\n",
    "from tensorflow.keras.models import Model"
   ]
  },
  {
   "cell_type": "code",
   "execution_count": 22,
   "id": "4e0f0026",
   "metadata": {},
   "outputs": [],
   "source": [
    "# Describes the shape/layers of the neural network\n",
    "input_layer = Input(shape=(x.shape[1],))\n",
    "dense_layer0 = Dense(100, activation='relu')(input_layer)\n",
    "dense_layer1 = Dense(50, activation='relu')(dense_layer0)\n",
    "dense_layer2 = Dense(25, activation='relu')(dense_layer1)\n",
    "dense_layer3 = Dense(10, activation='relu')(dense_layer2)\n",
    "dense_layer4 = Dense(5, activation='relu')(dense_layer3)\n",
    "dense_layer5 = Dense(2, activation='relu')(dense_layer4)\n",
    "output = Dense(1)(dense_layer5)"
   ]
  },
  {
   "cell_type": "code",
   "execution_count": 23,
   "id": "29677593",
   "metadata": {},
   "outputs": [],
   "source": [
    "# Will create a neural network model with the Model class from tensorflow.keras.models module\n",
    "model = Model(inputs = input_layer, outputs=output)\n",
    "model.compile(loss=\"mean_absolute_error\", optimizer=\"adam\",metrics=[\"mean_absolute_error\"])"
   ]
  },
  {
   "cell_type": "code",
   "execution_count": 24,
   "id": "ada06b7a",
   "metadata": {},
   "outputs": [
    {
     "data": {
      "image/png": "[encoded data removed]",
      "text/plain": [
       "<IPython.core.display.Image object>"
      ]
     },
     "execution_count": 24,
     "metadata": {},
     "output_type": "execute_result"
    }
   ],
   "source": [
    "# Plot and view model\n",
    "import pydot\n",
    "import graphviz\n",
    "from keras.utils.vis_utils import plot_model\n",
    "\n",
    "plot_model(model, to_file='model_plot.png', show_shapes=True, show_layer_names=True)"
   ]
  },
  {
   "cell_type": "markdown",
   "id": "785d7196",
   "metadata": {},
   "source": [
    "# Train the DNN Model"
   ]
  },
  {
   "cell_type": "code",
   "execution_count": 25,
   "id": "ef1225ed",
   "metadata": {},
   "outputs": [
    {
     "name": "stdout",
     "output_type": "stream",
     "text": [
      "Epoch 1/5\n",
      "765/765 [==============================] - 2s 2ms/step - loss: 3.6418 - mean_absolute_error: 3.6418 - val_loss: 2.3800 - val_mean_absolute_error: 2.3800\n",
      "Epoch 2/5\n",
      "765/765 [==============================] - 1s 1ms/step - loss: 2.1339 - mean_absolute_error: 2.1339 - val_loss: 2.1022 - val_mean_absolute_error: 2.1022\n",
      "Epoch 3/5\n",
      "765/765 [==============================] - 1s 1ms/step - loss: 1.8032 - mean_absolute_error: 1.8032 - val_loss: 2.3546 - val_mean_absolute_error: 2.3546\n",
      "Epoch 4/5\n",
      "765/765 [==============================] - 1s 2ms/step - loss: 1.6221 - mean_absolute_error: 1.6221 - val_loss: 2.0329 - val_mean_absolute_error: 2.0329\n",
      "Epoch 5/5\n",
      "765/765 [==============================] - 1s 1ms/step - loss: 1.5582 - mean_absolute_error: 1.5582 - val_loss: 2.0678 - val_mean_absolute_error: 2.0678\n"
     ]
    }
   ],
   "source": [
    "history = model.fit(x_train, y_train, batch_size=5, epochs=5, verbose=1, validation_split=0.2)"
   ]
  },
  {
   "cell_type": "markdown",
   "id": "10669e64",
   "metadata": {},
   "source": [
    "# Evaluating the Performance of the NN Model"
   ]
  },
  {
   "cell_type": "code",
   "execution_count": 26,
   "id": "05e26201",
   "metadata": {},
   "outputs": [
    {
     "data": {
      "image/png": "[encoded data removed]",
      "text/plain": [
       "<Figure size 576x432 with 1 Axes>"
      ]
     },
     "metadata": {},
     "output_type": "display_data"
    }
   ],
   "source": [
    "# Plot the training and test loss\n",
    "plt.plot(history.history['loss'])\n",
    "plt.plot(history.history['val_loss'])\n",
    "\n",
    "plt.title('loss')\n",
    "plt.ylabel('loss')\n",
    "plt.xlabel('epoch')\n",
    "plt.legend(['train','test'], loc='upper left')\n",
    "plt.show()"
   ]
  },
  {
   "cell_type": "markdown",
   "id": "c72aa8a8",
   "metadata": {},
   "source": [
    "##### The above output shows that while the training loss keeps decreasing till the fifth epoch, the test or validation loss shows fluctuation after the second epoch, which shows that the model is slightly overfitting."
   ]
  },
  {
   "cell_type": "code",
   "execution_count": 27,
   "id": "104e5d91",
   "metadata": {},
   "outputs": [],
   "source": [
    "y_pred = model.predict(x_test)"
   ]
  },
  {
   "cell_type": "code",
   "execution_count": 28,
   "id": "1a8b8b32",
   "metadata": {},
   "outputs": [
    {
     "name": "stdout",
     "output_type": "stream",
     "text": [
      "Mean Absolute Error: 1.9019238032106571\n",
      "Mean Squared Error: 19.76556263578868\n",
      "Root Mean Squared Error: 4.445847797191069\n"
     ]
    }
   ],
   "source": [
    "from sklearn import metrics\n",
    "\n",
    "print('Mean Absolute Error:', metrics.mean_absolute_error(y_test, y_pred))\n",
    "print('Mean Squared Error:', metrics.mean_squared_error(y_test, y_pred))\n",
    "print('Root Mean Squared Error:' , np.sqrt(metrics.mean_squared_error(y_test, y_pred)))"
   ]
  },
  {
   "cell_type": "code",
   "execution_count": 29,
   "id": "6c7d2c52",
   "metadata": {},
   "outputs": [
    {
     "data": {
      "text/plain": [
       "9.479468350224273"
      ]
     },
     "execution_count": 29,
     "metadata": {},
     "output_type": "execute_result"
    }
   ],
   "source": [
    "car_dataset['Price'].mean()"
   ]
  },
  {
   "cell_type": "markdown",
   "id": "6cc5fe53",
   "metadata": {},
   "source": [
    "#### Plot the actual and predicted values side-by-side"
   ]
  },
  {
   "cell_type": "code",
   "execution_count": 30,
   "id": "fe9fdb4e",
   "metadata": {},
   "outputs": [
    {
     "data": {
      "text/html": [
       "<div>\n",
       "<style scoped>\n",
       "    .dataframe tbody tr th:only-of-type {\n",
       "        vertical-align: middle;\n",
       "    }\n",
       "\n",
       "    .dataframe tbody tr th {\n",
       "        vertical-align: top;\n",
       "    }\n",
       "\n",
       "    .dataframe thead th {\n",
       "        text-align: right;\n",
       "    }\n",
       "</style>\n",
       "<table border=\"1\" class=\"dataframe\">\n",
       "  <thead>\n",
       "    <tr style=\"text-align: right;\">\n",
       "      <th></th>\n",
       "      <th>Actual</th>\n",
       "      <th>Predicted</th>\n",
       "    </tr>\n",
       "  </thead>\n",
       "  <tbody>\n",
       "    <tr>\n",
       "      <th>0</th>\n",
       "      <td>8.25</td>\n",
       "      <td>[7.951578140258789]</td>\n",
       "    </tr>\n",
       "    <tr>\n",
       "      <th>1</th>\n",
       "      <td>5.08</td>\n",
       "      <td>[4.263474464416504]</td>\n",
       "    </tr>\n",
       "    <tr>\n",
       "      <th>2</th>\n",
       "      <td>4.50</td>\n",
       "      <td>[6.924957752227783]</td>\n",
       "    </tr>\n",
       "    <tr>\n",
       "      <th>3</th>\n",
       "      <td>28.50</td>\n",
       "      <td>[38.90064239501953]</td>\n",
       "    </tr>\n",
       "    <tr>\n",
       "      <th>4</th>\n",
       "      <td>7.25</td>\n",
       "      <td>[11.561491012573242]</td>\n",
       "    </tr>\n",
       "    <tr>\n",
       "      <th>...</th>\n",
       "      <td>...</td>\n",
       "      <td>...</td>\n",
       "    </tr>\n",
       "    <tr>\n",
       "      <th>1191</th>\n",
       "      <td>7.50</td>\n",
       "      <td>[5.8726019859313965]</td>\n",
       "    </tr>\n",
       "    <tr>\n",
       "      <th>1192</th>\n",
       "      <td>21.67</td>\n",
       "      <td>[21.643573760986328]</td>\n",
       "    </tr>\n",
       "    <tr>\n",
       "      <th>1193</th>\n",
       "      <td>4.60</td>\n",
       "      <td>[3.6875834465026855]</td>\n",
       "    </tr>\n",
       "    <tr>\n",
       "      <th>1194</th>\n",
       "      <td>8.00</td>\n",
       "      <td>[14.362931251525879]</td>\n",
       "    </tr>\n",
       "    <tr>\n",
       "      <th>1195</th>\n",
       "      <td>2.65</td>\n",
       "      <td>[3.944241762161255]</td>\n",
       "    </tr>\n",
       "  </tbody>\n",
       "</table>\n",
       "<p>1196 rows × 2 columns</p>\n",
       "</div>"
      ],
      "text/plain": [
       "      Actual             Predicted\n",
       "0       8.25   [7.951578140258789]\n",
       "1       5.08   [4.263474464416504]\n",
       "2       4.50   [6.924957752227783]\n",
       "3      28.50   [38.90064239501953]\n",
       "4       7.25  [11.561491012573242]\n",
       "...      ...                   ...\n",
       "1191    7.50  [5.8726019859313965]\n",
       "1192   21.67  [21.643573760986328]\n",
       "1193    4.60  [3.6875834465026855]\n",
       "1194    8.00  [14.362931251525879]\n",
       "1195    2.65   [3.944241762161255]\n",
       "\n",
       "[1196 rows x 2 columns]"
      ]
     },
     "execution_count": 30,
     "metadata": {},
     "output_type": "execute_result"
    }
   ],
   "source": [
    "comparison_df = pd.DataFrame({'Actual': y_test.values.tolist(), 'Predicted': y_pred.tolist()})\n",
    "comparison_df"
   ]
  },
  {
   "cell_type": "markdown",
   "id": "78c03d40",
   "metadata": {},
   "source": [
    "# Make Predictions on Single Data Point"
   ]
  },
  {
   "cell_type": "code",
   "execution_count": 31,
   "id": "fba72562",
   "metadata": {},
   "outputs": [
    {
     "data": {
      "text/plain": [
       "(978,)"
      ]
     },
     "execution_count": 31,
     "metadata": {},
     "output_type": "execute_result"
    }
   ],
   "source": [
    "#Print the first record/index in the test set\n",
    "#Output below shows the single record has one dimension\n",
    "x_test[1].shape"
   ]
  },
  {
   "cell_type": "markdown",
   "id": "61a655a7",
   "metadata": {},
   "source": [
    "##### The feature vector for a record should be in the form of a row vector if you wish to make a prediction on a single record"
   ]
  },
  {
   "cell_type": "code",
   "execution_count": 32,
   "id": "141a2f45",
   "metadata": {},
   "outputs": [
    {
     "data": {
      "text/plain": [
       "(1, 978)"
      ]
     },
     "execution_count": 32,
     "metadata": {},
     "output_type": "execute_result"
    }
   ],
   "source": [
    "# Will convert the feature vector into a row vector using the reshape(1,-1) method\n",
    "single_point = x_test[1].reshape(1,-1)\n",
    "single_point.shape"
   ]
  },
  {
   "cell_type": "code",
   "execution_count": 33,
   "id": "daaebf82",
   "metadata": {},
   "outputs": [
    {
     "data": {
      "text/plain": [
       "array([[4.2634745]], dtype=float32)"
      ]
     },
     "execution_count": 33,
     "metadata": {},
     "output_type": "execute_result"
    }
   ],
   "source": [
    "# Will pass the newly formed row feature vector to the predict() method of the trained neural network model\n",
    "model.predict(x_test[1].reshape(1,-1))"
   ]
  },
  {
   "cell_type": "markdown",
   "id": "bfe8fef6",
   "metadata": {},
   "source": [
    "###### The price predicted 4.55 hundred thousand"
   ]
  },
  {
   "cell_type": "code",
   "execution_count": 34,
   "id": "7518abb2",
   "metadata": {},
   "outputs": [
    {
     "data": {
      "text/plain": [
       "5.08"
      ]
     },
     "execution_count": 34,
     "metadata": {},
     "output_type": "execute_result"
    }
   ],
   "source": [
    "# Will print the actual price\n",
    "y_test.values[1]"
   ]
  },
  {
   "cell_type": "code",
   "execution_count": 50,
   "id": "c8438668",
   "metadata": {},
   "outputs": [
    {
     "name": "stdout",
     "output_type": "stream",
     "text": [
      "\n",
      " The prediction was off by 0.8165254592895508.\n"
     ]
    }
   ],
   "source": [
    "print(\"\\n The prediction was off by {}.\".format(float(y_test.values[1] - model.predict(x_test[1].reshape(1,-1)))))"
   ]
  },
  {
   "cell_type": "markdown",
   "id": "82e2167f",
   "metadata": {},
   "source": [
    "##### 2. Single prediction "
   ]
  },
  {
   "cell_type": "code",
   "execution_count": 51,
   "id": "429d0527",
   "metadata": {},
   "outputs": [
    {
     "data": {
      "text/plain": [
       "(978,)"
      ]
     },
     "execution_count": 51,
     "metadata": {},
     "output_type": "execute_result"
    }
   ],
   "source": [
    "x_test[3].shape"
   ]
  },
  {
   "cell_type": "code",
   "execution_count": 52,
   "id": "7b6d191b",
   "metadata": {},
   "outputs": [
    {
     "data": {
      "text/plain": [
       "(1, 978)"
      ]
     },
     "execution_count": 52,
     "metadata": {},
     "output_type": "execute_result"
    }
   ],
   "source": [
    "single_point_2 = x_test[3].reshape(1,-1)\n",
    "single_point_2.shape"
   ]
  },
  {
   "cell_type": "code",
   "execution_count": 53,
   "id": "96dcb17c",
   "metadata": {},
   "outputs": [
    {
     "data": {
      "text/plain": [
       "array([[38.90064]], dtype=float32)"
      ]
     },
     "execution_count": 53,
     "metadata": {},
     "output_type": "execute_result"
    }
   ],
   "source": [
    "model.predict(x_test[3].reshape(1,-1))"
   ]
  },
  {
   "cell_type": "code",
   "execution_count": 54,
   "id": "7baad8d3",
   "metadata": {},
   "outputs": [
    {
     "data": {
      "text/plain": [
       "28.5"
      ]
     },
     "execution_count": 54,
     "metadata": {},
     "output_type": "execute_result"
    }
   ],
   "source": [
    "y_test.values[3]"
   ]
  },
  {
   "cell_type": "code",
   "execution_count": 55,
   "id": "b11542af",
   "metadata": {},
   "outputs": [
    {
     "name": "stdout",
     "output_type": "stream",
     "text": [
      "\n",
      " The prediction was off by -10.400638580322266.\n"
     ]
    }
   ],
   "source": [
    "print(\"\\n The prediction was off by {}.\".format(float(y_test.values[3] - model.predict(x_test[3].reshape(1,-1)))))"
   ]
  },
  {
   "cell_type": "markdown",
   "id": "216b9dfa",
   "metadata": {},
   "source": [
    "##### 3. Single record prediction"
   ]
  },
  {
   "cell_type": "code",
   "execution_count": 56,
   "id": "5e2b7d28",
   "metadata": {},
   "outputs": [
    {
     "data": {
      "text/plain": [
       "(978,)"
      ]
     },
     "execution_count": 56,
     "metadata": {},
     "output_type": "execute_result"
    }
   ],
   "source": [
    "x_train[30].shape"
   ]
  },
  {
   "cell_type": "code",
   "execution_count": 60,
   "id": "8e229bc2",
   "metadata": {},
   "outputs": [
    {
     "data": {
      "text/plain": [
       "(1, 978)"
      ]
     },
     "execution_count": 60,
     "metadata": {},
     "output_type": "execute_result"
    }
   ],
   "source": [
    "single_point_3 = x_test[30].reshape(1,-1)\n",
    "single_point_3.shape"
   ]
  },
  {
   "cell_type": "code",
   "execution_count": 61,
   "id": "65103596",
   "metadata": {},
   "outputs": [
    {
     "data": {
      "text/plain": [
       "array([[7.702709]], dtype=float32)"
      ]
     },
     "execution_count": 61,
     "metadata": {},
     "output_type": "execute_result"
    }
   ],
   "source": [
    "model.predict(x_test[30].reshape(1,-1))"
   ]
  },
  {
   "cell_type": "code",
   "execution_count": 62,
   "id": "6972d5d4",
   "metadata": {},
   "outputs": [
    {
     "data": {
      "text/plain": [
       "8.65"
      ]
     },
     "execution_count": 62,
     "metadata": {},
     "output_type": "execute_result"
    }
   ],
   "source": [
    "y_test.values[30]"
   ]
  },
  {
   "cell_type": "code",
   "execution_count": 63,
   "id": "80b37f25",
   "metadata": {},
   "outputs": [
    {
     "name": "stdout",
     "output_type": "stream",
     "text": [
      "\n",
      " The prediction was off by 0.9472904205322266.\n"
     ]
    }
   ],
   "source": [
    "print(\"\\n The prediction was off by {}.\".format(float(y_test.values[30] - model.predict(x_test[30].reshape(1,-1)))))"
   ]
  },
  {
   "cell_type": "code",
   "execution_count": null,
   "id": "7ea8abcd",
   "metadata": {},
   "outputs": [],
   "source": []
  }
 ],
 "metadata": {
  "kernelspec": {
   "display_name": "Python 3 (ipykernel)",
   "language": "python",
   "name": "python3"
  },
  "language_info": {
   "codemirror_mode": {
    "name": "ipython",
    "version": 3
   },
   "file_extension": ".py",
   "mimetype": "text/x-python",
   "name": "python",
   "nbconvert_exporter": "python",
   "pygments_lexer": "ipython3",
   "version": "3.9.7"
  }
 },
 "nbformat": 4,
 "nbformat_minor": 5
}
