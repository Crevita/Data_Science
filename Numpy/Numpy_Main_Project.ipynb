{
 "cells": [
  {
   "cell_type": "markdown",
   "id": "8c1155d7",
   "metadata": {},
   "source": [
    "# Numpy Main Project\n",
    "----The objective is to manipulate an array using only Numpy--------"
   ]
  },
  {
   "cell_type": "markdown",
   "id": "eb8b8307",
   "metadata": {},
   "source": [
    "### Load Data"
   ]
  },
  {
   "cell_type": "code",
   "execution_count": 172,
   "id": "f119b10b",
   "metadata": {},
   "outputs": [],
   "source": [
    "import numpy as np\n",
    "data_file = 'KAG_Conversion_Data.csv'"
   ]
  },
  {
   "cell_type": "code",
   "execution_count": 250,
   "id": "fecb721d",
   "metadata": {},
   "outputs": [],
   "source": [
    "# Creates array from the csv file\n",
    "data = np.genfromtxt(data_file, delimiter=\",\", skip_header=1,)\n",
    "\n",
    "# Creates a second array to use for string elements (age and gender)\n",
    "string_data = np.genfromtxt(data_file, delimiter=\",\", skip_header=1, dtype= str)"
   ]
  },
  {
   "cell_type": "code",
   "execution_count": 248,
   "id": "464fcec7",
   "metadata": {},
   "outputs": [],
   "source": [
    "# Assigning names to array elements\n",
    "ad_id = data[:,0]\n",
    "xyz_campaign_id = data[:,1]\n",
    "fb_campaign_id = data[:,2]\n",
    "age = string_data[:,3]\n",
    "gender = string_data[:,4]\n",
    "interest = data[:,5]\n",
    "Impressions = data[:,6]\n",
    "clicks = data[:,7]\n",
    "Spent = data[:,8]\n",
    "Total_conversion = data[:,9]\n",
    "approved_conversion = data[:,10]"
   ]
  },
  {
   "cell_type": "markdown",
   "id": "db83278c",
   "metadata": {},
   "source": [
    "### 1. How many unique ad campaigns does this data contain? And for how many times was each campaign run?"
   ]
  },
  {
   "cell_type": "code",
   "execution_count": 194,
   "id": "b5157a29",
   "metadata": {},
   "outputs": [
    {
     "name": "stdout",
     "output_type": "stream",
     "text": [
      "\n",
      " There are  3 unique campaigns in the data set.\n",
      "\n",
      "  Campaign id 936.0 was run 464 times.\n",
      "\n",
      "  Campaign id 1178.0 was run 625 times.\n",
      "\n",
      "  Campaign id 916.0 was run 54 times.\n"
     ]
    }
   ],
   "source": [
    "values, counts = np.unique((xyz_campaign_id), return_counts=True)\n",
    "\n",
    "print(\"\\n There are \",len(values), \"unique campaigns in the data set.\")\n",
    "\n",
    "for value in set(xyz_campaign_id):\n",
    "    print(\"\\n  Campaign id {} was run {} times.\".format(value,list(xyz_campaign_id).count(value)))"
   ]
  },
  {
   "cell_type": "markdown",
   "id": "dab4e088",
   "metadata": {},
   "source": [
    "### 2. What are the age groups that were targeted through these ad campaigns"
   ]
  },
  {
   "cell_type": "code",
   "execution_count": 187,
   "id": "7448dc46",
   "metadata": {},
   "outputs": [
    {
     "name": "stdout",
     "output_type": "stream",
     "text": [
      "\n",
      "  Campaign id 936.0 targeted the following age groups: ['30-34', '35-39', '40-44', '45-49'].\n",
      "\n",
      "  Campaign id 1178.0 targeted the following age groups: ['30-34', '35-39', '40-44', '45-49'].\n",
      "\n",
      "  Campaign id 916.0 targeted the following age groups: ['30-34', '35-39', '40-44', '45-49'].\n"
     ]
    }
   ],
   "source": [
    "age_values, age_counts = np.unique((age), return_counts=True)\n",
    "\n",
    "for value in set(xyz_campaign_id):\n",
    "    print(\"\\n  Campaign id {} targeted the following age groups: {}.\".format(value,list(age_values)))"
   ]
  },
  {
   "cell_type": "markdown",
   "id": "2b11c30c",
   "metadata": {},
   "source": [
    "## 3. What was the average, minimum and maximum amount spent on the ads?"
   ]
  },
  {
   "cell_type": "code",
   "execution_count": 237,
   "id": "4d7d6330",
   "metadata": {},
   "outputs": [
    {
     "data": {
      "text/plain": [
       "639.9499981"
      ]
     },
     "execution_count": 237,
     "metadata": {},
     "output_type": "execute_result"
    }
   ],
   "source": [
    "np.max(Spent)"
   ]
  },
  {
   "cell_type": "code",
   "execution_count": 192,
   "id": "95c109e4",
   "metadata": {
    "scrolled": true
   },
   "outputs": [
    {
     "data": {
      "text/plain": [
       "0.0"
      ]
     },
     "execution_count": 192,
     "metadata": {},
     "output_type": "execute_result"
    }
   ],
   "source": [
    "np.min(data[:,8])"
   ]
  },
  {
   "cell_type": "code",
   "execution_count": 239,
   "id": "6d1f3582",
   "metadata": {},
   "outputs": [
    {
     "data": {
      "text/plain": [
       "51.36065613141295"
      ]
     },
     "execution_count": 239,
     "metadata": {},
     "output_type": "execute_result"
    }
   ],
   "source": [
    "np.mean(Spent)"
   ]
  },
  {
   "cell_type": "markdown",
   "id": "68565823",
   "metadata": {},
   "source": [
    "## 4.What is the id of the ad having the maximum number of clicks"
   ]
  },
  {
   "cell_type": "code",
   "execution_count": 247,
   "id": "8178c80f",
   "metadata": {},
   "outputs": [
    {
     "name": "stdout",
     "output_type": "stream",
     "text": [
      "\n",
      "  The ad_id of the ad having the maximum number of clicks of 421.0 is 1121814. \n",
      "\n"
     ]
    }
   ],
   "source": [
    "m = max(list(clicks))\n",
    "m\n",
    "statement = clicks == m\n",
    "\n",
    "print(\"\\n  The ad_id of the ad having the maximum number of clicks of {} is {}. \\n\".format(m,int(ad_id[statement])))"
   ]
  },
  {
   "cell_type": "markdown",
   "id": "362abdac",
   "metadata": {},
   "source": [
    "## 5. How many people bought the product after seeing the ad with most clicks? Is that the maximum number of purchases in this dataset?\n"
   ]
  },
  {
   "cell_type": "code",
   "execution_count": 245,
   "id": "ee6803e9",
   "metadata": {},
   "outputs": [
    {
     "name": "stdout",
     "output_type": "stream",
     "text": [
      "\n",
      "  Total number of people who bought the product after seeing the ad with most clicks is: 13.\n",
      "\n",
      "   This is not the maximum number of purchases in this dataset. \n",
      "\n"
     ]
    }
   ],
   "source": [
    "print(\"\\n  Total number of people who bought the product after seeing the ad with most clicks is: {}.\".format(int(approved_conversion[statement])))\n",
    "\n",
    "if (approved_conversion.max() == m):\n",
    "  print(\"\\n This is the maximum number of purchases in this dataset. \\n\")\n",
    "else:\n",
    "  print(\"\\n   This is not the maximum number of purchases in this dataset. \\n\")"
   ]
  },
  {
   "cell_type": "markdown",
   "id": "8c692ee4",
   "metadata": {},
   "source": [
    "## 6. The ad with the most clicks didn't fetch the maximum number of purchases. Find the details of the product having maximum number of purchases\n"
   ]
  },
  {
   "cell_type": "code",
   "execution_count": 246,
   "id": "491ce16d",
   "metadata": {},
   "outputs": [
    {
     "name": "stdout",
     "output_type": "stream",
     "text": [
      "\n",
      "\n",
      "   The details of product with maximum number of purchases:- \n",
      "\n",
      "\n",
      "\n",
      "\n",
      "\n",
      "    Ad_id = 1121104, \n",
      "    \n",
      "    Campaign_id = 1178, \n",
      "    \n",
      "    fb_campaign_id = 144533, \n",
      "    \n",
      "    Age = ['30-34'], \n",
      "    \n",
      "    Gender is ['M'], \n",
      "    \n",
      "    Interest = 16.0, \n",
      "    \n",
      "    Impressions = 2080666.0, \n",
      "    \n",
      "    Clicks = 202, \n",
      "    \n",
      "    Spent = 360.1500015, \n",
      "    \n",
      "    Total_conversion = 40, \n",
      "    \n",
      "    Approved_Conversion = 21. \n",
      "\n",
      "    \n"
     ]
    }
   ],
   "source": [
    "s2 = approved_conversion == approved_conversion.max()\n",
    "print(\"\\n\\n   The details of product with maximum number of purchases:- \\n\")\n",
    "print(\n",
    "\"\"\"\n",
    "\\n\\n\n",
    "    Ad_id = {}, \\n    \n",
    "    Campaign_id = {}, \\n    \n",
    "    fb_campaign_id = {}, \\n    \n",
    "    Age = {}, \\n    \n",
    "    Gender is {}, \\n    \n",
    "    Interest = {}, \\n    \n",
    "    Impressions = {}, \\n    \n",
    "    Clicks = {}, \\n    \n",
    "    Spent = {}, \\n    \n",
    "    Total_conversion = {}, \\n    \n",
    "    Approved_Conversion = {}. \\n\n",
    "    \"\"\".format(int(ad_id[s2]),int(xyz_campaign_id[s2]),int(fb_campaign_id[s2]),str(age[s2]).replace(\",\",\"\"),gender[s2],float(interest[s2]),float(Impressions[s2]),int(clicks[s2]),float(Spent[s2]),int(Total_conversion[s2]),int(approved_conversion[s2]))\n",
    "    )"
   ]
  }
 ],
 "metadata": {
  "kernelspec": {
   "display_name": "Python 3 (ipykernel)",
   "language": "python",
   "name": "python3"
  },
  "language_info": {
   "codemirror_mode": {
    "name": "ipython",
    "version": 3
   },
   "file_extension": ".py",
   "mimetype": "text/x-python",
   "name": "python",
   "nbconvert_exporter": "python",
   "pygments_lexer": "ipython3",
   "version": "3.9.7"
  }
 },
 "nbformat": 4,
 "nbformat_minor": 5
}
