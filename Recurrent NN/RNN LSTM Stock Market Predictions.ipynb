{
 "cells": [
  {
   "cell_type": "markdown",
   "id": "52755a87",
   "metadata": {},
   "source": [
    "# Predicting Stock Market Trends with RNN(LSTM)\n",
    "----- A recurrent neural network is used to process data that is sequential in nature, e.g., stock prices data, text sentences, or sales of items. LSTM - Long Short-Term Memory"
   ]
  },
  {
   "cell_type": "code",
   "execution_count": 1,
   "id": "858ee690",
   "metadata": {},
   "outputs": [],
   "source": [
    "#Import libraries needed for analysis\n",
    "import pandas as pd\n",
    "import numpy as np\n",
    "\n",
    "#Import Leidos dataset\n",
    "leidos_complete_data = pd.read_csv(\"LDOS_training.csv\")\n"
   ]
  },
  {
   "cell_type": "markdown",
   "id": "933bf3c2",
   "metadata": {},
   "source": [
    "### View the dataset"
   ]
  },
  {
   "cell_type": "code",
   "execution_count": 2,
   "id": "ad9e7737",
   "metadata": {
    "scrolled": false
   },
   "outputs": [
    {
     "data": {
      "text/html": [
       "<div>\n",
       "<style scoped>\n",
       "    .dataframe tbody tr th:only-of-type {\n",
       "        vertical-align: middle;\n",
       "    }\n",
       "\n",
       "    .dataframe tbody tr th {\n",
       "        vertical-align: top;\n",
       "    }\n",
       "\n",
       "    .dataframe thead th {\n",
       "        text-align: right;\n",
       "    }\n",
       "</style>\n",
       "<table border=\"1\" class=\"dataframe\">\n",
       "  <thead>\n",
       "    <tr style=\"text-align: right;\">\n",
       "      <th></th>\n",
       "      <th>Date</th>\n",
       "      <th>Open</th>\n",
       "      <th>High</th>\n",
       "      <th>Low</th>\n",
       "      <th>Close</th>\n",
       "      <th>Adj Close</th>\n",
       "      <th>Volume</th>\n",
       "    </tr>\n",
       "  </thead>\n",
       "  <tbody>\n",
       "    <tr>\n",
       "      <th>0</th>\n",
       "      <td>3/31/2022</td>\n",
       "      <td>108.070000</td>\n",
       "      <td>109.400002</td>\n",
       "      <td>107.550003</td>\n",
       "      <td>108.019997</td>\n",
       "      <td>108.019997</td>\n",
       "      <td>932500</td>\n",
       "    </tr>\n",
       "    <tr>\n",
       "      <th>1</th>\n",
       "      <td>3/30/2022</td>\n",
       "      <td>107.379997</td>\n",
       "      <td>109.040001</td>\n",
       "      <td>107.370003</td>\n",
       "      <td>108.419998</td>\n",
       "      <td>108.419998</td>\n",
       "      <td>829700</td>\n",
       "    </tr>\n",
       "    <tr>\n",
       "      <th>2</th>\n",
       "      <td>3/29/2022</td>\n",
       "      <td>107.760002</td>\n",
       "      <td>108.290001</td>\n",
       "      <td>106.250000</td>\n",
       "      <td>107.360001</td>\n",
       "      <td>107.360001</td>\n",
       "      <td>740800</td>\n",
       "    </tr>\n",
       "    <tr>\n",
       "      <th>3</th>\n",
       "      <td>3/28/2022</td>\n",
       "      <td>108.349998</td>\n",
       "      <td>109.349998</td>\n",
       "      <td>107.250000</td>\n",
       "      <td>109.050003</td>\n",
       "      <td>109.050003</td>\n",
       "      <td>564100</td>\n",
       "    </tr>\n",
       "    <tr>\n",
       "      <th>4</th>\n",
       "      <td>3/25/2022</td>\n",
       "      <td>107.949997</td>\n",
       "      <td>109.620003</td>\n",
       "      <td>107.099998</td>\n",
       "      <td>108.529999</td>\n",
       "      <td>108.529999</td>\n",
       "      <td>564100</td>\n",
       "    </tr>\n",
       "  </tbody>\n",
       "</table>\n",
       "</div>"
      ],
      "text/plain": [
       "        Date        Open        High         Low       Close   Adj Close  \\\n",
       "0  3/31/2022  108.070000  109.400002  107.550003  108.019997  108.019997   \n",
       "1  3/30/2022  107.379997  109.040001  107.370003  108.419998  108.419998   \n",
       "2  3/29/2022  107.760002  108.290001  106.250000  107.360001  107.360001   \n",
       "3  3/28/2022  108.349998  109.349998  107.250000  109.050003  109.050003   \n",
       "4  3/25/2022  107.949997  109.620003  107.099998  108.529999  108.529999   \n",
       "\n",
       "   Volume  \n",
       "0  932500  \n",
       "1  829700  \n",
       "2  740800  \n",
       "3  564100  \n",
       "4  564100  "
      ]
     },
     "execution_count": 2,
     "metadata": {},
     "output_type": "execute_result"
    }
   ],
   "source": [
    "#View first five rows\n",
    "leidos_complete_data.head(5)"
   ]
  },
  {
   "cell_type": "markdown",
   "id": "581366e6",
   "metadata": {},
   "source": [
    "# Data Exploration"
   ]
  },
  {
   "cell_type": "code",
   "execution_count": 3,
   "id": "01cc4154",
   "metadata": {},
   "outputs": [
    {
     "name": "stdout",
     "output_type": "stream",
     "text": [
      "<class 'pandas.core.frame.DataFrame'>\n",
      "RangeIndex: 233 entries, 0 to 232\n",
      "Data columns (total 7 columns):\n",
      " #   Column     Non-Null Count  Dtype  \n",
      "---  ------     --------------  -----  \n",
      " 0   Date       233 non-null    object \n",
      " 1   Open       233 non-null    float64\n",
      " 2   High       233 non-null    float64\n",
      " 3   Low        233 non-null    float64\n",
      " 4   Close      233 non-null    float64\n",
      " 5   Adj Close  233 non-null    float64\n",
      " 6   Volume     233 non-null    int64  \n",
      "dtypes: float64(5), int64(1), object(1)\n",
      "memory usage: 12.9+ KB\n"
     ]
    }
   ],
   "source": [
    "\"\"\"Need to change Date from object to DateTime datatype\"\"\"\n",
    "leidos_complete_data.info()"
   ]
  },
  {
   "cell_type": "code",
   "execution_count": 4,
   "id": "bb3ba9d0",
   "metadata": {},
   "outputs": [],
   "source": [
    "#Change \n",
    "leidos_complete_data['Date'] = leidos_complete_data['Date'].astype('datetime64[ns]')"
   ]
  },
  {
   "cell_type": "code",
   "execution_count": 5,
   "id": "1ae3070f",
   "metadata": {},
   "outputs": [
    {
     "name": "stdout",
     "output_type": "stream",
     "text": [
      "<class 'pandas.core.frame.DataFrame'>\n",
      "RangeIndex: 233 entries, 0 to 232\n",
      "Data columns (total 7 columns):\n",
      " #   Column     Non-Null Count  Dtype         \n",
      "---  ------     --------------  -----         \n",
      " 0   Date       233 non-null    datetime64[ns]\n",
      " 1   Open       233 non-null    float64       \n",
      " 2   High       233 non-null    float64       \n",
      " 3   Low        233 non-null    float64       \n",
      " 4   Close      233 non-null    float64       \n",
      " 5   Adj Close  233 non-null    float64       \n",
      " 6   Volume     233 non-null    int64         \n",
      "dtypes: datetime64[ns](1), float64(5), int64(1)\n",
      "memory usage: 12.9 KB\n"
     ]
    }
   ],
   "source": [
    "leidos_complete_data.info()"
   ]
  },
  {
   "cell_type": "code",
   "execution_count": 6,
   "id": "2320822f",
   "metadata": {},
   "outputs": [
    {
     "data": {
      "text/plain": [
       "(233, 7)"
      ]
     },
     "execution_count": 6,
     "metadata": {},
     "output_type": "execute_result"
    }
   ],
   "source": [
    "leidos_complete_data.shape"
   ]
  },
  {
   "cell_type": "code",
   "execution_count": 7,
   "id": "5b1e64d1",
   "metadata": {},
   "outputs": [
    {
     "data": {
      "text/html": [
       "<div>\n",
       "<style scoped>\n",
       "    .dataframe tbody tr th:only-of-type {\n",
       "        vertical-align: middle;\n",
       "    }\n",
       "\n",
       "    .dataframe tbody tr th {\n",
       "        vertical-align: top;\n",
       "    }\n",
       "\n",
       "    .dataframe thead th {\n",
       "        text-align: right;\n",
       "    }\n",
       "</style>\n",
       "<table border=\"1\" class=\"dataframe\">\n",
       "  <thead>\n",
       "    <tr style=\"text-align: right;\">\n",
       "      <th></th>\n",
       "      <th>Open</th>\n",
       "      <th>High</th>\n",
       "      <th>Low</th>\n",
       "      <th>Close</th>\n",
       "      <th>Adj Close</th>\n",
       "      <th>Volume</th>\n",
       "    </tr>\n",
       "  </thead>\n",
       "  <tbody>\n",
       "    <tr>\n",
       "      <th>count</th>\n",
       "      <td>233.000000</td>\n",
       "      <td>233.000000</td>\n",
       "      <td>233.000000</td>\n",
       "      <td>233.000000</td>\n",
       "      <td>233.000000</td>\n",
       "      <td>2.330000e+02</td>\n",
       "    </tr>\n",
       "    <tr>\n",
       "      <th>mean</th>\n",
       "      <td>97.702403</td>\n",
       "      <td>98.766695</td>\n",
       "      <td>96.677983</td>\n",
       "      <td>97.750043</td>\n",
       "      <td>96.966896</td>\n",
       "      <td>8.359858e+05</td>\n",
       "    </tr>\n",
       "    <tr>\n",
       "      <th>std</th>\n",
       "      <td>6.394104</td>\n",
       "      <td>6.281890</td>\n",
       "      <td>6.448073</td>\n",
       "      <td>6.385515</td>\n",
       "      <td>6.193879</td>\n",
       "      <td>4.879494e+05</td>\n",
       "    </tr>\n",
       "    <tr>\n",
       "      <th>min</th>\n",
       "      <td>82.529999</td>\n",
       "      <td>85.040001</td>\n",
       "      <td>81.070000</td>\n",
       "      <td>84.440002</td>\n",
       "      <td>84.141891</td>\n",
       "      <td>2.509000e+05</td>\n",
       "    </tr>\n",
       "    <tr>\n",
       "      <th>25%</th>\n",
       "      <td>92.239998</td>\n",
       "      <td>93.320000</td>\n",
       "      <td>91.029999</td>\n",
       "      <td>92.230003</td>\n",
       "      <td>91.773529</td>\n",
       "      <td>5.377000e+05</td>\n",
       "    </tr>\n",
       "    <tr>\n",
       "      <th>50%</th>\n",
       "      <td>97.820000</td>\n",
       "      <td>98.830002</td>\n",
       "      <td>96.900002</td>\n",
       "      <td>97.889999</td>\n",
       "      <td>96.964783</td>\n",
       "      <td>7.043000e+05</td>\n",
       "    </tr>\n",
       "    <tr>\n",
       "      <th>75%</th>\n",
       "      <td>103.400002</td>\n",
       "      <td>104.260002</td>\n",
       "      <td>102.330002</td>\n",
       "      <td>103.440002</td>\n",
       "      <td>102.215622</td>\n",
       "      <td>9.414000e+05</td>\n",
       "    </tr>\n",
       "    <tr>\n",
       "      <th>max</th>\n",
       "      <td>108.349998</td>\n",
       "      <td>109.620003</td>\n",
       "      <td>107.550003</td>\n",
       "      <td>109.050003</td>\n",
       "      <td>109.050003</td>\n",
       "      <td>3.922800e+06</td>\n",
       "    </tr>\n",
       "  </tbody>\n",
       "</table>\n",
       "</div>"
      ],
      "text/plain": [
       "             Open        High         Low       Close   Adj Close  \\\n",
       "count  233.000000  233.000000  233.000000  233.000000  233.000000   \n",
       "mean    97.702403   98.766695   96.677983   97.750043   96.966896   \n",
       "std      6.394104    6.281890    6.448073    6.385515    6.193879   \n",
       "min     82.529999   85.040001   81.070000   84.440002   84.141891   \n",
       "25%     92.239998   93.320000   91.029999   92.230003   91.773529   \n",
       "50%     97.820000   98.830002   96.900002   97.889999   96.964783   \n",
       "75%    103.400002  104.260002  102.330002  103.440002  102.215622   \n",
       "max    108.349998  109.620003  107.550003  109.050003  109.050003   \n",
       "\n",
       "             Volume  \n",
       "count  2.330000e+02  \n",
       "mean   8.359858e+05  \n",
       "std    4.879494e+05  \n",
       "min    2.509000e+05  \n",
       "25%    5.377000e+05  \n",
       "50%    7.043000e+05  \n",
       "75%    9.414000e+05  \n",
       "max    3.922800e+06  "
      ]
     },
     "execution_count": 7,
     "metadata": {},
     "output_type": "execute_result"
    }
   ],
   "source": [
    "leidos_complete_data.describe()"
   ]
  },
  {
   "cell_type": "code",
   "execution_count": 8,
   "id": "a3a47b5a",
   "metadata": {},
   "outputs": [],
   "source": [
    "import seaborn as sns\n",
    "from matplotlib import pyplot as plt\n",
    "import math"
   ]
  },
  {
   "cell_type": "code",
   "execution_count": 9,
   "id": "299e4f64",
   "metadata": {},
   "outputs": [
    {
     "data": {
      "image/png": "[encoded data removed]",
      "text/plain": [
       "<Figure size 1440x1080 with 9 Axes>"
      ]
     },
     "metadata": {
      "needs_background": "light"
     },
     "output_type": "display_data"
    }
   ],
   "source": [
    "#Create histograms\n",
    "%matplotlib inline\n",
    "leidos_complete_data.hist(bins=50, figsize=(20,15))\n",
    "plt.show()"
   ]
  },
  {
   "cell_type": "code",
   "execution_count": 10,
   "id": "b5eebca3",
   "metadata": {},
   "outputs": [
    {
     "data": {
      "text/plain": [
       "<AxesSubplot:xlabel='Open', ylabel='Count'>"
      ]
     },
     "execution_count": 10,
     "metadata": {},
     "output_type": "execute_result"
    },
    {
     "data": {
      "image/png": "[encoded data removed]",
      "text/plain": [
       "<Figure size 432x288 with 1 Axes>"
      ]
     },
     "metadata": {
      "needs_background": "light"
     },
     "output_type": "display_data"
    }
   ],
   "source": [
    "sns.histplot(leidos_complete_data['Open'])"
   ]
  },
  {
   "cell_type": "code",
   "execution_count": 11,
   "id": "35afabb8",
   "metadata": {},
   "outputs": [],
   "source": [
    "#Only need the \"Open column for the analysis code will seperate it from the rest of the table\n",
    "leidos_training_processed = leidos_complete_data[['Open']].values"
   ]
  },
  {
   "cell_type": "code",
   "execution_count": 12,
   "id": "1d643e10",
   "metadata": {},
   "outputs": [],
   "source": [
    "#scaling features\n",
    "from sklearn.preprocessing import MinMaxScaler\n",
    "scaler = MinMaxScaler(feature_range = (0, 1))\n",
    "\n",
    "leidos_training_scaled = scaler.fit_transform(leidos_training_processed)"
   ]
  },
  {
   "cell_type": "code",
   "execution_count": 13,
   "id": "a00e7545",
   "metadata": {},
   "outputs": [
    {
     "data": {
      "text/plain": [
       "233"
      ]
     },
     "execution_count": 13,
     "metadata": {},
     "output_type": "execute_result"
    }
   ],
   "source": [
    "len(leidos_training_scaled)"
   ]
  },
  {
   "cell_type": "code",
   "execution_count": 14,
   "id": "88040426",
   "metadata": {},
   "outputs": [],
   "source": [
    "#training features contained data of last 60 days\n",
    "#training labels contain data of 61st day\n",
    "\n",
    "leidos_training_features= []\n",
    "leidos_training_labels = []\n",
    "for i in range(60, len(leidos_training_scaled)):\n",
    "    leidos_training_features.append(leidos_training_scaled[i-60:i,0])\n",
    "    leidos_training_labels.append(leidos_training_scaled[i, 0])"
   ]
  },
  {
   "cell_type": "code",
   "execution_count": 15,
   "id": "bf778732",
   "metadata": {},
   "outputs": [],
   "source": [
    "#converting training data to numpy arrays\n",
    "x_train = np.array(leidos_training_features)\n",
    "y_train = np.array(leidos_training_labels)"
   ]
  },
  {
   "cell_type": "code",
   "execution_count": 16,
   "id": "ceeb83a4",
   "metadata": {},
   "outputs": [
    {
     "name": "stdout",
     "output_type": "stream",
     "text": [
      "(173, 60)\n",
      "(173,)\n"
     ]
    }
   ],
   "source": [
    "#Check shape of training sets\n",
    "print(x_train.shape)\n",
    "print(y_train.shape)"
   ]
  },
  {
   "cell_type": "code",
   "execution_count": 17,
   "id": "226f15b8",
   "metadata": {},
   "outputs": [],
   "source": [
    "# converting data into 3D shape\n",
    "x_train = np.reshape(x_train, (x_train.shape[0], x_train.shape[1], 1))"
   ]
  },
  {
   "cell_type": "code",
   "execution_count": 18,
   "id": "08026e81",
   "metadata": {},
   "outputs": [],
   "source": [
    "#importing libraries\n",
    "import matplotlib.pyplot as plt\n",
    "from tensorflow.keras.layers import Input, Activation, Dense, Flatten, Dropout, Flatten, LSTM\n",
    "from tensorflow.keras.models import Model"
   ]
  },
  {
   "cell_type": "code",
   "execution_count": 19,
   "id": "3ff2f188",
   "metadata": {},
   "outputs": [],
   "source": [
    "#defining the LSTM network\n",
    "\n",
    "input_layer = Input(shape = (x_train.shape[1], 1))\n",
    "lstm1 = LSTM(100, activation= 'relu', return_sequences=True)(input_layer)\n",
    "do1 = Dropout(0.2)(lstm1)\n",
    "lstm2 = LSTM(100, activation='relu', return_sequences=True)(do1)\n",
    "do2 = Dropout(0.2)(lstm2)\n",
    "lstm3 = LSTM(100, activation='relu', return_sequences=True)(do2)\n",
    "do3 = Dropout(0.2)(lstm3)\n",
    "lstm4 = LSTM(100, activation='relu')(do3)\n",
    "do4 = Dropout(0.2)(lstm4)\n",
    "\n",
    "output_layer = Dense(1)(do4)\n",
    "model = Model(input_layer, output_layer)\n",
    "model.compile(optimizer='adam', loss='mse')\n"
   ]
  },
  {
   "cell_type": "code",
   "execution_count": 20,
   "id": "65750f1c",
   "metadata": {},
   "outputs": [
    {
     "name": "stdout",
     "output_type": "stream",
     "text": [
      "(173, 60, 1)\n",
      "(173,)\n",
      "(173, 1)\n"
     ]
    }
   ],
   "source": [
    "print(x_train.shape)\n",
    "print(y_train.shape)\n",
    "y_train= y_train.reshape(-1,1)\n",
    "print(y_train.shape)"
   ]
  },
  {
   "cell_type": "code",
   "execution_count": 21,
   "id": "0d3e5700",
   "metadata": {},
   "outputs": [
    {
     "name": "stdout",
     "output_type": "stream",
     "text": [
      "Epoch 1/100\n",
      "6/6 [==============================] - 4s 106ms/step - loss: 0.3496\n",
      "Epoch 2/100\n",
      "6/6 [==============================] - 1s 122ms/step - loss: 0.0780\n",
      "Epoch 3/100\n",
      "6/6 [==============================] - 1s 112ms/step - loss: 0.0578\n",
      "Epoch 4/100\n",
      "6/6 [==============================] - 1s 99ms/step - loss: 0.0383\n",
      "Epoch 5/100\n",
      "6/6 [==============================] - 1s 126ms/step - loss: 0.0317\n",
      "Epoch 6/100\n",
      "6/6 [==============================] - 1s 121ms/step - loss: 0.0334\n",
      "Epoch 7/100\n",
      "6/6 [==============================] - 1s 97ms/step - loss: 0.0286\n",
      "Epoch 8/100\n",
      "6/6 [==============================] - 1s 97ms/step - loss: 0.0295\n",
      "Epoch 9/100\n",
      "6/6 [==============================] - 1s 107ms/step - loss: 0.0269\n",
      "Epoch 10/100\n",
      "6/6 [==============================] - 1s 114ms/step - loss: 0.0257\n",
      "Epoch 11/100\n",
      "6/6 [==============================] - 1s 97ms/step - loss: 0.0255\n",
      "Epoch 12/100\n",
      "6/6 [==============================] - 1s 98ms/step - loss: 0.0254\n",
      "Epoch 13/100\n",
      "6/6 [==============================] - 1s 96ms/step - loss: 0.0264\n",
      "Epoch 14/100\n",
      "6/6 [==============================] - 1s 99ms/step - loss: 0.0240\n",
      "Epoch 15/100\n",
      "6/6 [==============================] - 1s 94ms/step - loss: 0.0241\n",
      "Epoch 16/100\n",
      "6/6 [==============================] - 1s 97ms/step - loss: 0.0301\n",
      "Epoch 17/100\n",
      "6/6 [==============================] - 1s 97ms/step - loss: 0.0242\n",
      "Epoch 18/100\n",
      "6/6 [==============================] - 1s 96ms/step - loss: 0.0216\n",
      "Epoch 19/100\n",
      "6/6 [==============================] - 1s 99ms/step - loss: 0.0242\n",
      "Epoch 20/100\n",
      "6/6 [==============================] - 1s 97ms/step - loss: 0.0256\n",
      "Epoch 21/100\n",
      "6/6 [==============================] - 1s 94ms/step - loss: 0.0246\n",
      "Epoch 22/100\n",
      "6/6 [==============================] - 1s 97ms/step - loss: 0.0260\n",
      "Epoch 23/100\n",
      "6/6 [==============================] - 1s 100ms/step - loss: 0.0213\n",
      "Epoch 24/100\n",
      "6/6 [==============================] - 1s 98ms/step - loss: 0.0207\n",
      "Epoch 25/100\n",
      "6/6 [==============================] - 1s 129ms/step - loss: 0.0215\n",
      "Epoch 26/100\n",
      "6/6 [==============================] - 1s 96ms/step - loss: 0.0203\n",
      "Epoch 27/100\n",
      "6/6 [==============================] - 1s 99ms/step - loss: 0.0235\n",
      "Epoch 28/100\n",
      "6/6 [==============================] - 1s 98ms/step - loss: 0.0238\n",
      "Epoch 29/100\n",
      "6/6 [==============================] - 1s 110ms/step - loss: 0.0243\n",
      "Epoch 30/100\n",
      "6/6 [==============================] - 1s 99ms/step - loss: 0.0221\n",
      "Epoch 31/100\n",
      "6/6 [==============================] - 1s 99ms/step - loss: 0.0260\n",
      "Epoch 32/100\n",
      "6/6 [==============================] - 1s 113ms/step - loss: 0.0236\n",
      "Epoch 33/100\n",
      "6/6 [==============================] - 1s 104ms/step - loss: 0.0240\n",
      "Epoch 34/100\n",
      "6/6 [==============================] - 1s 103ms/step - loss: 0.0230\n",
      "Epoch 35/100\n",
      "6/6 [==============================] - 1s 99ms/step - loss: 0.0231\n",
      "Epoch 36/100\n",
      "6/6 [==============================] - 1s 94ms/step - loss: 0.0211\n",
      "Epoch 37/100\n",
      "6/6 [==============================] - 1s 93ms/step - loss: 0.0218\n",
      "Epoch 38/100\n",
      "6/6 [==============================] - 1s 93ms/step - loss: 0.0205\n",
      "Epoch 39/100\n",
      "6/6 [==============================] - 1s 97ms/step - loss: 0.0173\n",
      "Epoch 40/100\n",
      "6/6 [==============================] - 1s 101ms/step - loss: 0.0184\n",
      "Epoch 41/100\n",
      "6/6 [==============================] - 1s 96ms/step - loss: 0.0146\n",
      "Epoch 42/100\n",
      "6/6 [==============================] - 1s 116ms/step - loss: 0.0180\n",
      "Epoch 43/100\n",
      "6/6 [==============================] - 1s 111ms/step - loss: 0.0245\n",
      "Epoch 44/100\n",
      "6/6 [==============================] - 1s 98ms/step - loss: 0.0233\n",
      "Epoch 45/100\n",
      "6/6 [==============================] - 1s 98ms/step - loss: 0.0224\n",
      "Epoch 46/100\n",
      "6/6 [==============================] - 1s 100ms/step - loss: 0.0245\n",
      "Epoch 47/100\n",
      "6/6 [==============================] - 1s 95ms/step - loss: 0.0222\n",
      "Epoch 48/100\n",
      "6/6 [==============================] - 1s 99ms/step - loss: 0.0239\n",
      "Epoch 49/100\n",
      "6/6 [==============================] - 1s 99ms/step - loss: 0.0239\n",
      "Epoch 50/100\n",
      "6/6 [==============================] - 1s 98ms/step - loss: 0.0219\n",
      "Epoch 51/100\n",
      "6/6 [==============================] - 1s 100ms/step - loss: 0.0211\n",
      "Epoch 52/100\n",
      "6/6 [==============================] - 1s 120ms/step - loss: 0.0216\n",
      "Epoch 53/100\n",
      "6/6 [==============================] - 1s 142ms/step - loss: 0.0232\n",
      "Epoch 54/100\n",
      "6/6 [==============================] - 1s 152ms/step - loss: 0.0205\n",
      "Epoch 55/100\n",
      "6/6 [==============================] - 1s 131ms/step - loss: 0.0221\n",
      "Epoch 56/100\n",
      "6/6 [==============================] - 1s 152ms/step - loss: 0.0212\n",
      "Epoch 57/100\n",
      "6/6 [==============================] - 1s 130ms/step - loss: 0.0215\n",
      "Epoch 58/100\n",
      "6/6 [==============================] - 1s 104ms/step - loss: 0.0194\n",
      "Epoch 59/100\n",
      "6/6 [==============================] - 1s 110ms/step - loss: 0.0222\n",
      "Epoch 60/100\n",
      "6/6 [==============================] - 1s 122ms/step - loss: 0.0209\n",
      "Epoch 61/100\n",
      "6/6 [==============================] - 1s 113ms/step - loss: 0.0185\n",
      "Epoch 62/100\n",
      "6/6 [==============================] - 1s 118ms/step - loss: 0.0179\n",
      "Epoch 63/100\n",
      "6/6 [==============================] - 1s 104ms/step - loss: 0.0208\n",
      "Epoch 64/100\n",
      "6/6 [==============================] - 1s 103ms/step - loss: 0.0177\n",
      "Epoch 65/100\n",
      "6/6 [==============================] - 1s 116ms/step - loss: 0.0203\n",
      "Epoch 66/100\n",
      "6/6 [==============================] - 1s 114ms/step - loss: 0.0183\n",
      "Epoch 67/100\n",
      "6/6 [==============================] - 1s 102ms/step - loss: 0.0176\n",
      "Epoch 68/100\n",
      "6/6 [==============================] - 1s 93ms/step - loss: 0.0184\n",
      "Epoch 69/100\n",
      "6/6 [==============================] - 1s 97ms/step - loss: 0.0204\n",
      "Epoch 70/100\n",
      "6/6 [==============================] - 1s 94ms/step - loss: 0.0162\n",
      "Epoch 71/100\n",
      "6/6 [==============================] - 1s 96ms/step - loss: 0.0181\n",
      "Epoch 72/100\n",
      "6/6 [==============================] - 1s 97ms/step - loss: 0.0179\n",
      "Epoch 73/100\n",
      "6/6 [==============================] - 1s 101ms/step - loss: 0.0202\n",
      "Epoch 74/100\n",
      "6/6 [==============================] - 1s 133ms/step - loss: 0.0188\n",
      "Epoch 75/100\n",
      "6/6 [==============================] - 1s 171ms/step - loss: 0.0196\n",
      "Epoch 76/100\n",
      "6/6 [==============================] - 1s 106ms/step - loss: 0.0174\n",
      "Epoch 77/100\n",
      "6/6 [==============================] - 1s 97ms/step - loss: 0.0166\n",
      "Epoch 78/100\n",
      "6/6 [==============================] - 1s 100ms/step - loss: 0.0165\n",
      "Epoch 79/100\n",
      "6/6 [==============================] - 1s 108ms/step - loss: 0.0160\n",
      "Epoch 80/100\n",
      "6/6 [==============================] - 1s 102ms/step - loss: 0.0167\n",
      "Epoch 81/100\n",
      "6/6 [==============================] - 1s 101ms/step - loss: 0.0153\n",
      "Epoch 82/100\n",
      "6/6 [==============================] - 1s 99ms/step - loss: 0.0160\n",
      "Epoch 83/100\n",
      "6/6 [==============================] - 1s 103ms/step - loss: 0.0159\n",
      "Epoch 84/100\n",
      "6/6 [==============================] - 1s 114ms/step - loss: 0.0149\n",
      "Epoch 85/100\n",
      "6/6 [==============================] - 1s 105ms/step - loss: 0.0144\n",
      "Epoch 86/100\n",
      "6/6 [==============================] - 1s 109ms/step - loss: 0.0136\n",
      "Epoch 87/100\n",
      "6/6 [==============================] - 1s 104ms/step - loss: 0.0149\n",
      "Epoch 88/100\n",
      "6/6 [==============================] - 1s 103ms/step - loss: 0.0119\n",
      "Epoch 89/100\n",
      "6/6 [==============================] - 1s 101ms/step - loss: 0.0144\n",
      "Epoch 90/100\n",
      "6/6 [==============================] - 1s 104ms/step - loss: 0.0122\n",
      "Epoch 91/100\n",
      "6/6 [==============================] - 1s 102ms/step - loss: 0.0127\n",
      "Epoch 92/100\n",
      "6/6 [==============================] - 1s 101ms/step - loss: 0.0131\n",
      "Epoch 93/100\n",
      "6/6 [==============================] - 1s 101ms/step - loss: 0.0129\n",
      "Epoch 94/100\n",
      "6/6 [==============================] - 1s 101ms/step - loss: 0.0147\n",
      "Epoch 95/100\n",
      "6/6 [==============================] - 1s 104ms/step - loss: 0.0149\n",
      "Epoch 96/100\n",
      "6/6 [==============================] - 1s 101ms/step - loss: 0.0134\n",
      "Epoch 97/100\n",
      "6/6 [==============================] - 1s 103ms/step - loss: 0.0121\n",
      "Epoch 98/100\n",
      "6/6 [==============================] - 1s 105ms/step - loss: 0.0130\n",
      "Epoch 99/100\n",
      "6/6 [==============================] - 1s 105ms/step - loss: 0.0131\n",
      "Epoch 100/100\n",
      "6/6 [==============================] - 1s 126ms/step - loss: 0.0119\n"
     ]
    }
   ],
   "source": [
    "#training the model\n",
    "model_history = model.fit(x_train, y_train, epochs=100, verbose=1, batch_size = 32)"
   ]
  },
  {
   "cell_type": "code",
   "execution_count": 22,
   "id": "871e3b4b",
   "metadata": {},
   "outputs": [],
   "source": [
    "#Load testing dataset, prices for April\n",
    "leidos_testing_complete_data = pd.read_csv(\"LDOS_test.csv\")\n",
    "leidos_testing_processed = leidos_testing_complete_data[['Open']].values"
   ]
  },
  {
   "cell_type": "code",
   "execution_count": 23,
   "id": "fa743cf2",
   "metadata": {},
   "outputs": [],
   "source": [
    "leidos_all_data = pd.concat((leidos_complete_data['Open'], leidos_testing_complete_data['Open']), axis=0)"
   ]
  },
  {
   "cell_type": "code",
   "execution_count": 24,
   "id": "afc86b3b",
   "metadata": {},
   "outputs": [
    {
     "name": "stdout",
     "output_type": "stream",
     "text": [
      "(486,)\n"
     ]
    }
   ],
   "source": [
    "print(leidos_all_data.shape)"
   ]
  },
  {
   "cell_type": "code",
   "execution_count": 25,
   "id": "7c7f0f68",
   "metadata": {},
   "outputs": [
    {
     "name": "stdout",
     "output_type": "stream",
     "text": [
      "(313,)\n"
     ]
    }
   ],
   "source": [
    "test_inputs = leidos_all_data [len(leidos_all_data) - len(leidos_testing_complete_data) - 60:].values\n",
    "print(test_inputs.shape)"
   ]
  },
  {
   "cell_type": "code",
   "execution_count": 26,
   "id": "a3c8f977",
   "metadata": {},
   "outputs": [
    {
     "name": "stdout",
     "output_type": "stream",
     "text": [
      "(313, 1)\n"
     ]
    }
   ],
   "source": [
    "test_inputs = test_inputs.reshape(-1,1)\n",
    "test_inputs = scaler.transform(test_inputs)\n",
    "print(test_inputs.shape)"
   ]
  },
  {
   "cell_type": "code",
   "execution_count": 27,
   "id": "bead05e8",
   "metadata": {},
   "outputs": [],
   "source": [
    "leidos_test_features =[]\n",
    "for i in range(60, 80):\n",
    "    leidos_test_features.append(test_inputs[i-60:i, 0])"
   ]
  },
  {
   "cell_type": "code",
   "execution_count": 28,
   "id": "d9e07e35",
   "metadata": {},
   "outputs": [
    {
     "name": "stdout",
     "output_type": "stream",
     "text": [
      "(20, 60)\n"
     ]
    }
   ],
   "source": [
    "x_test = np.array(leidos_test_features)\n",
    "print(x_test.shape)"
   ]
  },
  {
   "cell_type": "code",
   "execution_count": 29,
   "id": "32e8d1b9",
   "metadata": {},
   "outputs": [
    {
     "name": "stdout",
     "output_type": "stream",
     "text": [
      "(20, 60, 1)\n"
     ]
    }
   ],
   "source": [
    "#Converting test data into 3D shape\n",
    "x_test = np.reshape(x_test, (x_test.shape[0], x_test.shape[1], 1))\n",
    "print(x_test.shape)"
   ]
  },
  {
   "cell_type": "code",
   "execution_count": 30,
   "id": "8c321ae7",
   "metadata": {},
   "outputs": [],
   "source": [
    "#make predictions on test set\n",
    "y_pred = model.predict(x_test)"
   ]
  },
  {
   "cell_type": "code",
   "execution_count": 31,
   "id": "ee5c2f0e",
   "metadata": {},
   "outputs": [],
   "source": [
    "#converting scaled data back to original data\n",
    "y_pred = scaler.inverse_transform(y_pred)"
   ]
  },
  {
   "cell_type": "code",
   "execution_count": 32,
   "id": "47499553",
   "metadata": {},
   "outputs": [
    {
     "data": {
      "image/png": "[encoded data removed]",
      "text/plain": [
       "<Figure size 576x432 with 1 Axes>"
      ]
     },
     "metadata": {
      "needs_background": "light"
     },
     "output_type": "display_data"
    }
   ],
   "source": [
    "#plotting original and predicted stock values\n",
    "plt.figure(figsize=(8,6))\n",
    "plt.plot(leidos_testing_processed, color='red', label='Actual Leidos Stock Price')\n",
    "plt.plot(y_pred, color='green', label='Predicted Leidos Stock Price')\n",
    "plt.title('Leidos Stock Prices')\n",
    "plt.xlabel('Date')\n",
    "plt.ylabel('Stock Price')\n",
    "plt.legend()\n",
    "plt.show()"
   ]
  },
  {
   "cell_type": "code",
   "execution_count": 33,
   "id": "4176dbad",
   "metadata": {},
   "outputs": [
    {
     "data": {
      "text/plain": [
       "'Findings:RNN(LSTM) was able to capture the general trend of Leidos future stock prices\\n\\n'"
      ]
     },
     "execution_count": 33,
     "metadata": {},
     "output_type": "execute_result"
    }
   ],
   "source": [
    "\"\"\"Findings:RNN(LSTM) was able to capture the general trend of Leidos future stock prices\n",
    "\n",
    "\"\"\""
   ]
  }
 ],
 "metadata": {
  "kernelspec": {
   "display_name": "Python 3 (ipykernel)",
   "language": "python",
   "name": "python3"
  },
  "language_info": {
   "codemirror_mode": {
    "name": "ipython",
    "version": 3
   },
   "file_extension": ".py",
   "mimetype": "text/x-python",
   "name": "python",
   "nbconvert_exporter": "python",
   "pygments_lexer": "ipython3",
   "version": "3.9.7"
  }
 },
 "nbformat": 4,
 "nbformat_minor": 5
}
